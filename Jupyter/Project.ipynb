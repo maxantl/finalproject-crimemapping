{
 "nbformat": 4,
 "nbformat_minor": 0,
 "metadata": {
  "colab": {
   "name": "Project",
   "provenance": [],
   "collapsed_sections": []
  },
  "kernelspec": {
   "name": "python3",
   "display_name": "Python 3"
  },
  "language_info": {
   "name": "python"
  }
 },
 "cells": [
  {
   "cell_type": "code",
   "source": [
    "import pandas as pd\n",
    "import numpy as np\n",
    "from nltk.corpus import stopwords\n",
    "import warnings\n",
    "import json\n",
    "warnings.filterwarnings('ignore')"
   ],
   "metadata": {
    "id": "fjEW-3urxi-g",
    "pycharm": {
     "name": "#%%\n"
    }
   },
   "execution_count": 1,
   "outputs": []
  },
  {
   "cell_type": "code",
   "execution_count": 24,
   "outputs": [
    {
     "data": {
      "text/plain": "                                             created_at  \\\n0                              2022-07-13T14:29:17.000Z   \n1                              2022-07-13T12:10:52.000Z   \n2                              2022-07-13T11:20:38.000Z   \n3                              2022-07-12T13:18:14.000Z   \n4                              2022-07-12T11:53:06.000Z   \n...                                                 ...   \n1485  2021-09-02 12:12:11 Malay Peninsula Standard Time   \n1486  2021-09-01 14:35:45 Malay Peninsula Standard Time   \n1487  2021-09-01 12:41:19 Malay Peninsula Standard Time   \n1488  2021-09-01 12:09:47 Malay Peninsula Standard Time   \n1489  2021-09-01 11:12:43 Malay Peninsula Standard Time   \n\n                                                  tweet  \n0     PNP OIC PLTGEN Danao Jr. confirmed that two me...  \n1     This anti-illegal drug operation also led to t...  \n2     A regional level most wanted person for illega...  \n3     Three former members of a CTG in Masbate are n...  \n4     A 37-year-old drug suspect was busted in an an...  \n...                                                 ...  \n1485  ELEAZAR: 92% OF PNP PERSONNEL RECEIVED VACCINE...  \n1486  ELEAZAR: POLICEMEN CHARGED WITH MURDER BY DOJ ...  \n1487  POLICE CONDUCT MOBILE LIBRARY FOR CHILDREN IN ...  \n1488  IAS RECOMMENDATION ON POLICEMAN INVOLVED IN FA...  \n1489  ELEAZAR ORDERS PROBE ON MOTORCYCLE STUNTS IN Z...  \n\n[1490 rows x 2 columns]",
      "text/html": "<div>\n<style scoped>\n    .dataframe tbody tr th:only-of-type {\n        vertical-align: middle;\n    }\n\n    .dataframe tbody tr th {\n        vertical-align: top;\n    }\n\n    .dataframe thead th {\n        text-align: right;\n    }\n</style>\n<table border=\"1\" class=\"dataframe\">\n  <thead>\n    <tr style=\"text-align: right;\">\n      <th></th>\n      <th>created_at</th>\n      <th>tweet</th>\n    </tr>\n  </thead>\n  <tbody>\n    <tr>\n      <th>0</th>\n      <td>2022-07-13T14:29:17.000Z</td>\n      <td>PNP OIC PLTGEN Danao Jr. confirmed that two me...</td>\n    </tr>\n    <tr>\n      <th>1</th>\n      <td>2022-07-13T12:10:52.000Z</td>\n      <td>This anti-illegal drug operation also led to t...</td>\n    </tr>\n    <tr>\n      <th>2</th>\n      <td>2022-07-13T11:20:38.000Z</td>\n      <td>A regional level most wanted person for illega...</td>\n    </tr>\n    <tr>\n      <th>3</th>\n      <td>2022-07-12T13:18:14.000Z</td>\n      <td>Three former members of a CTG in Masbate are n...</td>\n    </tr>\n    <tr>\n      <th>4</th>\n      <td>2022-07-12T11:53:06.000Z</td>\n      <td>A 37-year-old drug suspect was busted in an an...</td>\n    </tr>\n    <tr>\n      <th>...</th>\n      <td>...</td>\n      <td>...</td>\n    </tr>\n    <tr>\n      <th>1485</th>\n      <td>2021-09-02 12:12:11 Malay Peninsula Standard Time</td>\n      <td>ELEAZAR: 92% OF PNP PERSONNEL RECEIVED VACCINE...</td>\n    </tr>\n    <tr>\n      <th>1486</th>\n      <td>2021-09-01 14:35:45 Malay Peninsula Standard Time</td>\n      <td>ELEAZAR: POLICEMEN CHARGED WITH MURDER BY DOJ ...</td>\n    </tr>\n    <tr>\n      <th>1487</th>\n      <td>2021-09-01 12:41:19 Malay Peninsula Standard Time</td>\n      <td>POLICE CONDUCT MOBILE LIBRARY FOR CHILDREN IN ...</td>\n    </tr>\n    <tr>\n      <th>1488</th>\n      <td>2021-09-01 12:09:47 Malay Peninsula Standard Time</td>\n      <td>IAS RECOMMENDATION ON POLICEMAN INVOLVED IN FA...</td>\n    </tr>\n    <tr>\n      <th>1489</th>\n      <td>2021-09-01 11:12:43 Malay Peninsula Standard Time</td>\n      <td>ELEAZAR ORDERS PROBE ON MOTORCYCLE STUNTS IN Z...</td>\n    </tr>\n  </tbody>\n</table>\n<p>1490 rows × 2 columns</p>\n</div>"
     },
     "execution_count": 24,
     "metadata": {},
     "output_type": "execute_result"
    }
   ],
   "source": [
    "tweet_df = pd.read_csv('Datasets/data.csv',encoding=\"ISO-8859-1\")\n",
    "t_df = pd.read_csv('Datasets/data1.csv',encoding=\"ISO-8859-1\")\n",
    "tweet_df.drop(tweet_df.columns.difference(['created_at','full_text']),axis=1, inplace=True)\n",
    "t_df.drop(t_df.columns.difference(['created_at','tweet']),axis=1, inplace=True)\n",
    "tweet_df = tweet_df.rename(columns={'full_text': 'tweet'})\n",
    "frames=[tweet_df, t_df]\n",
    "final_df = pd.concat(frames, ignore_index=True)\n",
    "final_df"
   ],
   "metadata": {
    "collapsed": false,
    "pycharm": {
     "name": "#%%\n"
    }
   }
  },
  {
   "cell_type": "code",
   "execution_count": 41,
   "outputs": [
    {
     "data": {
      "text/plain": "                       id      conversation_id  \\\n0     1013208061908054019  1013208061908054019   \n1     1013205544818085893  1013205544818085893   \n2     1013203039476436992  1013203039476436992   \n3     1013200560001036295  1013200560001036295   \n4     1013198750561591296  1013198750561591296   \n...                   ...                  ...   \n6506   947842350302277632   947842350302277632   \n6507   947839835489882112   947839835489882112   \n6508   947838029053378560   947828755426263041   \n6509   947837320677519360   947837320677519360   \n6510   947834801276547073   947834801276547073   \n\n                                             created_at        date      time  \\\n0     2018-07-01 07:50:01 Malay Peninsula Standard Time  2018-07-01  07:50:01   \n1     2018-07-01 07:40:00 Malay Peninsula Standard Time  2018-07-01  07:40:00   \n2     2018-07-01 07:30:03 Malay Peninsula Standard Time  2018-07-01  07:30:03   \n3     2018-07-01 07:20:12 Malay Peninsula Standard Time  2018-07-01  07:20:12   \n4     2018-07-01 07:13:01 Malay Peninsula Standard Time  2018-07-01  07:13:01   \n...                                                 ...         ...       ...   \n6506  2018-01-01 22:50:01 Malay Peninsula Standard Time  2018-01-01  22:50:01   \n6507  2018-01-01 22:40:01 Malay Peninsula Standard Time  2018-01-01  22:40:01   \n6508  2018-01-01 22:32:50 Malay Peninsula Standard Time  2018-01-01  22:32:50   \n6509  2018-01-01 22:30:01 Malay Peninsula Standard Time  2018-01-01  22:30:01   \n6510  2018-01-01 22:20:01 Malay Peninsula Standard Time  2018-01-01  22:20:01   \n\n      timezone   user_id        username                  name  place  ...  \\\n0          800  15375209  manilabulletin  Manila Bulletin News    NaN  ...   \n1          800  15375209  manilabulletin  Manila Bulletin News    NaN  ...   \n2          800  15375209  manilabulletin  Manila Bulletin News    NaN  ...   \n3          800  15375209  manilabulletin  Manila Bulletin News    NaN  ...   \n4          800  15375209  manilabulletin  Manila Bulletin News    NaN  ...   \n...        ...       ...             ...                   ...    ...  ...   \n6506       800  15375209  manilabulletin  Manila Bulletin News    NaN  ...   \n6507       800  15375209  manilabulletin  Manila Bulletin News    NaN  ...   \n6508       800  15375209  manilabulletin  Manila Bulletin News    NaN  ...   \n6509       800  15375209  manilabulletin  Manila Bulletin News    NaN  ...   \n6510       800  15375209  manilabulletin  Manila Bulletin News    NaN  ...   \n\n     geo source user_rt_id user_rt retweet_id  reply_to  retweet_date  \\\n0    NaN    NaN        NaN     NaN        NaN        []           NaN   \n1    NaN    NaN        NaN     NaN        NaN        []           NaN   \n2    NaN    NaN        NaN     NaN        NaN        []           NaN   \n3    NaN    NaN        NaN     NaN        NaN        []           NaN   \n4    NaN    NaN        NaN     NaN        NaN        []           NaN   \n...   ..    ...        ...     ...        ...       ...           ...   \n6506 NaN    NaN        NaN     NaN        NaN        []           NaN   \n6507 NaN    NaN        NaN     NaN        NaN        []           NaN   \n6508 NaN    NaN        NaN     NaN        NaN        []           NaN   \n6509 NaN    NaN        NaN     NaN        NaN        []           NaN   \n6510 NaN    NaN        NaN     NaN        NaN        []           NaN   \n\n      translate trans_src trans_dest  \n0           NaN       NaN        NaN  \n1           NaN       NaN        NaN  \n2           NaN       NaN        NaN  \n3           NaN       NaN        NaN  \n4           NaN       NaN        NaN  \n...         ...       ...        ...  \n6506        NaN       NaN        NaN  \n6507        NaN       NaN        NaN  \n6508        NaN       NaN        NaN  \n6509        NaN       NaN        NaN  \n6510        NaN       NaN        NaN  \n\n[6491 rows x 36 columns]",
      "text/html": "<div>\n<style scoped>\n    .dataframe tbody tr th:only-of-type {\n        vertical-align: middle;\n    }\n\n    .dataframe tbody tr th {\n        vertical-align: top;\n    }\n\n    .dataframe thead th {\n        text-align: right;\n    }\n</style>\n<table border=\"1\" class=\"dataframe\">\n  <thead>\n    <tr style=\"text-align: right;\">\n      <th></th>\n      <th>id</th>\n      <th>conversation_id</th>\n      <th>created_at</th>\n      <th>date</th>\n      <th>time</th>\n      <th>timezone</th>\n      <th>user_id</th>\n      <th>username</th>\n      <th>name</th>\n      <th>place</th>\n      <th>...</th>\n      <th>geo</th>\n      <th>source</th>\n      <th>user_rt_id</th>\n      <th>user_rt</th>\n      <th>retweet_id</th>\n      <th>reply_to</th>\n      <th>retweet_date</th>\n      <th>translate</th>\n      <th>trans_src</th>\n      <th>trans_dest</th>\n    </tr>\n  </thead>\n  <tbody>\n    <tr>\n      <th>0</th>\n      <td>1013208061908054019</td>\n      <td>1013208061908054019</td>\n      <td>2018-07-01 07:50:01 Malay Peninsula Standard Time</td>\n      <td>2018-07-01</td>\n      <td>07:50:01</td>\n      <td>800</td>\n      <td>15375209</td>\n      <td>manilabulletin</td>\n      <td>Manila Bulletin News</td>\n      <td>NaN</td>\n      <td>...</td>\n      <td>NaN</td>\n      <td>NaN</td>\n      <td>NaN</td>\n      <td>NaN</td>\n      <td>NaN</td>\n      <td>[]</td>\n      <td>NaN</td>\n      <td>NaN</td>\n      <td>NaN</td>\n      <td>NaN</td>\n    </tr>\n    <tr>\n      <th>1</th>\n      <td>1013205544818085893</td>\n      <td>1013205544818085893</td>\n      <td>2018-07-01 07:40:00 Malay Peninsula Standard Time</td>\n      <td>2018-07-01</td>\n      <td>07:40:00</td>\n      <td>800</td>\n      <td>15375209</td>\n      <td>manilabulletin</td>\n      <td>Manila Bulletin News</td>\n      <td>NaN</td>\n      <td>...</td>\n      <td>NaN</td>\n      <td>NaN</td>\n      <td>NaN</td>\n      <td>NaN</td>\n      <td>NaN</td>\n      <td>[]</td>\n      <td>NaN</td>\n      <td>NaN</td>\n      <td>NaN</td>\n      <td>NaN</td>\n    </tr>\n    <tr>\n      <th>2</th>\n      <td>1013203039476436992</td>\n      <td>1013203039476436992</td>\n      <td>2018-07-01 07:30:03 Malay Peninsula Standard Time</td>\n      <td>2018-07-01</td>\n      <td>07:30:03</td>\n      <td>800</td>\n      <td>15375209</td>\n      <td>manilabulletin</td>\n      <td>Manila Bulletin News</td>\n      <td>NaN</td>\n      <td>...</td>\n      <td>NaN</td>\n      <td>NaN</td>\n      <td>NaN</td>\n      <td>NaN</td>\n      <td>NaN</td>\n      <td>[]</td>\n      <td>NaN</td>\n      <td>NaN</td>\n      <td>NaN</td>\n      <td>NaN</td>\n    </tr>\n    <tr>\n      <th>3</th>\n      <td>1013200560001036295</td>\n      <td>1013200560001036295</td>\n      <td>2018-07-01 07:20:12 Malay Peninsula Standard Time</td>\n      <td>2018-07-01</td>\n      <td>07:20:12</td>\n      <td>800</td>\n      <td>15375209</td>\n      <td>manilabulletin</td>\n      <td>Manila Bulletin News</td>\n      <td>NaN</td>\n      <td>...</td>\n      <td>NaN</td>\n      <td>NaN</td>\n      <td>NaN</td>\n      <td>NaN</td>\n      <td>NaN</td>\n      <td>[]</td>\n      <td>NaN</td>\n      <td>NaN</td>\n      <td>NaN</td>\n      <td>NaN</td>\n    </tr>\n    <tr>\n      <th>4</th>\n      <td>1013198750561591296</td>\n      <td>1013198750561591296</td>\n      <td>2018-07-01 07:13:01 Malay Peninsula Standard Time</td>\n      <td>2018-07-01</td>\n      <td>07:13:01</td>\n      <td>800</td>\n      <td>15375209</td>\n      <td>manilabulletin</td>\n      <td>Manila Bulletin News</td>\n      <td>NaN</td>\n      <td>...</td>\n      <td>NaN</td>\n      <td>NaN</td>\n      <td>NaN</td>\n      <td>NaN</td>\n      <td>NaN</td>\n      <td>[]</td>\n      <td>NaN</td>\n      <td>NaN</td>\n      <td>NaN</td>\n      <td>NaN</td>\n    </tr>\n    <tr>\n      <th>...</th>\n      <td>...</td>\n      <td>...</td>\n      <td>...</td>\n      <td>...</td>\n      <td>...</td>\n      <td>...</td>\n      <td>...</td>\n      <td>...</td>\n      <td>...</td>\n      <td>...</td>\n      <td>...</td>\n      <td>...</td>\n      <td>...</td>\n      <td>...</td>\n      <td>...</td>\n      <td>...</td>\n      <td>...</td>\n      <td>...</td>\n      <td>...</td>\n      <td>...</td>\n      <td>...</td>\n    </tr>\n    <tr>\n      <th>6506</th>\n      <td>947842350302277632</td>\n      <td>947842350302277632</td>\n      <td>2018-01-01 22:50:01 Malay Peninsula Standard Time</td>\n      <td>2018-01-01</td>\n      <td>22:50:01</td>\n      <td>800</td>\n      <td>15375209</td>\n      <td>manilabulletin</td>\n      <td>Manila Bulletin News</td>\n      <td>NaN</td>\n      <td>...</td>\n      <td>NaN</td>\n      <td>NaN</td>\n      <td>NaN</td>\n      <td>NaN</td>\n      <td>NaN</td>\n      <td>[]</td>\n      <td>NaN</td>\n      <td>NaN</td>\n      <td>NaN</td>\n      <td>NaN</td>\n    </tr>\n    <tr>\n      <th>6507</th>\n      <td>947839835489882112</td>\n      <td>947839835489882112</td>\n      <td>2018-01-01 22:40:01 Malay Peninsula Standard Time</td>\n      <td>2018-01-01</td>\n      <td>22:40:01</td>\n      <td>800</td>\n      <td>15375209</td>\n      <td>manilabulletin</td>\n      <td>Manila Bulletin News</td>\n      <td>NaN</td>\n      <td>...</td>\n      <td>NaN</td>\n      <td>NaN</td>\n      <td>NaN</td>\n      <td>NaN</td>\n      <td>NaN</td>\n      <td>[]</td>\n      <td>NaN</td>\n      <td>NaN</td>\n      <td>NaN</td>\n      <td>NaN</td>\n    </tr>\n    <tr>\n      <th>6508</th>\n      <td>947838029053378560</td>\n      <td>947828755426263041</td>\n      <td>2018-01-01 22:32:50 Malay Peninsula Standard Time</td>\n      <td>2018-01-01</td>\n      <td>22:32:50</td>\n      <td>800</td>\n      <td>15375209</td>\n      <td>manilabulletin</td>\n      <td>Manila Bulletin News</td>\n      <td>NaN</td>\n      <td>...</td>\n      <td>NaN</td>\n      <td>NaN</td>\n      <td>NaN</td>\n      <td>NaN</td>\n      <td>NaN</td>\n      <td>[]</td>\n      <td>NaN</td>\n      <td>NaN</td>\n      <td>NaN</td>\n      <td>NaN</td>\n    </tr>\n    <tr>\n      <th>6509</th>\n      <td>947837320677519360</td>\n      <td>947837320677519360</td>\n      <td>2018-01-01 22:30:01 Malay Peninsula Standard Time</td>\n      <td>2018-01-01</td>\n      <td>22:30:01</td>\n      <td>800</td>\n      <td>15375209</td>\n      <td>manilabulletin</td>\n      <td>Manila Bulletin News</td>\n      <td>NaN</td>\n      <td>...</td>\n      <td>NaN</td>\n      <td>NaN</td>\n      <td>NaN</td>\n      <td>NaN</td>\n      <td>NaN</td>\n      <td>[]</td>\n      <td>NaN</td>\n      <td>NaN</td>\n      <td>NaN</td>\n      <td>NaN</td>\n    </tr>\n    <tr>\n      <th>6510</th>\n      <td>947834801276547073</td>\n      <td>947834801276547073</td>\n      <td>2018-01-01 22:20:01 Malay Peninsula Standard Time</td>\n      <td>2018-01-01</td>\n      <td>22:20:01</td>\n      <td>800</td>\n      <td>15375209</td>\n      <td>manilabulletin</td>\n      <td>Manila Bulletin News</td>\n      <td>NaN</td>\n      <td>...</td>\n      <td>NaN</td>\n      <td>NaN</td>\n      <td>NaN</td>\n      <td>NaN</td>\n      <td>NaN</td>\n      <td>[]</td>\n      <td>NaN</td>\n      <td>NaN</td>\n      <td>NaN</td>\n      <td>NaN</td>\n    </tr>\n  </tbody>\n</table>\n<p>6491 rows × 36 columns</p>\n</div>"
     },
     "execution_count": 41,
     "metadata": {},
     "output_type": "execute_result"
    }
   ],
   "source": [
    "#final_df = pd.read_csv('Datasets/final.csv',encoding=\"ISO-8859-1\")\n",
    "final_df = pd.read_csv('Datasets/data7.csv',encoding=\"ISO-8859-1\")\n",
    "tweets_to_keep = ['murder','assassinate','massacre','massacred','drug',\n",
    "                  'shabu','drugs','cppnpa','ctg','terrorist','murdered',\n",
    "                  'terrorism','homicide','regicide','butcher','resisted',\n",
    "                  'resistance','smuggling','smuggle','smuggled','theft',\n",
    "                  'robbery','rape','carnapping','assault','marijuana',\n",
    "                  'private armed group','buy-bust','kidnap','kidnapping',\n",
    "                  'battery','sexual assault','molest','molestation',\n",
    "                  'defilement','deflowering','hijack','hijacking',\n",
    "                  'abduction','mugging','steal','stealing','thieving',\n",
    "                  'robbing','shoplift','shoplifting','holdup','mugging',\n",
    "                  'contraband','export','arrest','arrested','busted','fraud',\n",
    "                  'fraudulent','scam','counterfeit','forgery']\n",
    "\n",
    "final_df=final_df.drop_duplicates()\n",
    "final_df"
   ],
   "metadata": {
    "collapsed": false,
    "pycharm": {
     "name": "#%%\n"
    }
   }
  },
  {
   "cell_type": "code",
   "source": [
    "import re\n",
    "from nltk.tokenize import word_tokenize\n",
    "tagalog_stops = pd.read_csv(\"Datasets/tagalog_stopwords.csv\").a.to_list()\n",
    "stop_words = stopwords.words('english') + tagalog_stops\n",
    "def clean_tweets(text):\n",
    "    text = text.lower()\n",
    "    text = re.sub(r'RT @[\\w]*','',str(text))\n",
    "    text = re.sub(r'@[\\w]*','',str(text))\n",
    "    text = re.sub(r'#([a-zA-Z0-9_]{1,50})','',str(text))\n",
    "    text = re.sub(r'https?://[A-Za-z0-9./]*','',str(text))\n",
    "    text = re.sub(r'\\n','',str(text))\n",
    "    text = re.sub(r'[^\\x00-\\x7F\\x80-\\xFF\\u0100-\\u017F\\u0180-\\u024F\\u1E00-\\u1EFF]', u'', str(text))\n",
    "    text = re.sub(r'[^\\x00-\\x7f]', '', str(text))\n",
    "    text = re.sub(r'[^\\w\\s]', '', str(text))\n",
    "    text_tokens = word_tokenize(text)\n",
    "    filtered_text = [w for w in text_tokens if not w in stop_words]\n",
    "    return \" \".join(filtered_text)\n",
    "final_df['tweet'] = final_df['tweet'].apply(lambda x: clean_tweets(x))\n",
    "final_df"
   ],
   "metadata": {
    "id": "deg73Avz1mkw",
    "pycharm": {
     "name": "#%%\n"
    }
   },
   "execution_count": 42,
   "outputs": [
    {
     "data": {
      "text/plain": "                       id      conversation_id  \\\n0     1013208061908054019  1013208061908054019   \n1     1013205544818085893  1013205544818085893   \n2     1013203039476436992  1013203039476436992   \n3     1013200560001036295  1013200560001036295   \n4     1013198750561591296  1013198750561591296   \n...                   ...                  ...   \n6506   947842350302277632   947842350302277632   \n6507   947839835489882112   947839835489882112   \n6508   947838029053378560   947828755426263041   \n6509   947837320677519360   947837320677519360   \n6510   947834801276547073   947834801276547073   \n\n                                             created_at        date      time  \\\n0     2018-07-01 07:50:01 Malay Peninsula Standard Time  2018-07-01  07:50:01   \n1     2018-07-01 07:40:00 Malay Peninsula Standard Time  2018-07-01  07:40:00   \n2     2018-07-01 07:30:03 Malay Peninsula Standard Time  2018-07-01  07:30:03   \n3     2018-07-01 07:20:12 Malay Peninsula Standard Time  2018-07-01  07:20:12   \n4     2018-07-01 07:13:01 Malay Peninsula Standard Time  2018-07-01  07:13:01   \n...                                                 ...         ...       ...   \n6506  2018-01-01 22:50:01 Malay Peninsula Standard Time  2018-01-01  22:50:01   \n6507  2018-01-01 22:40:01 Malay Peninsula Standard Time  2018-01-01  22:40:01   \n6508  2018-01-01 22:32:50 Malay Peninsula Standard Time  2018-01-01  22:32:50   \n6509  2018-01-01 22:30:01 Malay Peninsula Standard Time  2018-01-01  22:30:01   \n6510  2018-01-01 22:20:01 Malay Peninsula Standard Time  2018-01-01  22:20:01   \n\n      timezone   user_id        username                  name  place  ...  \\\n0          800  15375209  manilabulletin  Manila Bulletin News    NaN  ...   \n1          800  15375209  manilabulletin  Manila Bulletin News    NaN  ...   \n2          800  15375209  manilabulletin  Manila Bulletin News    NaN  ...   \n3          800  15375209  manilabulletin  Manila Bulletin News    NaN  ...   \n4          800  15375209  manilabulletin  Manila Bulletin News    NaN  ...   \n...        ...       ...             ...                   ...    ...  ...   \n6506       800  15375209  manilabulletin  Manila Bulletin News    NaN  ...   \n6507       800  15375209  manilabulletin  Manila Bulletin News    NaN  ...   \n6508       800  15375209  manilabulletin  Manila Bulletin News    NaN  ...   \n6509       800  15375209  manilabulletin  Manila Bulletin News    NaN  ...   \n6510       800  15375209  manilabulletin  Manila Bulletin News    NaN  ...   \n\n     geo source user_rt_id user_rt retweet_id  reply_to  retweet_date  \\\n0    NaN    NaN        NaN     NaN        NaN        []           NaN   \n1    NaN    NaN        NaN     NaN        NaN        []           NaN   \n2    NaN    NaN        NaN     NaN        NaN        []           NaN   \n3    NaN    NaN        NaN     NaN        NaN        []           NaN   \n4    NaN    NaN        NaN     NaN        NaN        []           NaN   \n...   ..    ...        ...     ...        ...       ...           ...   \n6506 NaN    NaN        NaN     NaN        NaN        []           NaN   \n6507 NaN    NaN        NaN     NaN        NaN        []           NaN   \n6508 NaN    NaN        NaN     NaN        NaN        []           NaN   \n6509 NaN    NaN        NaN     NaN        NaN        []           NaN   \n6510 NaN    NaN        NaN     NaN        NaN        []           NaN   \n\n      translate trans_src trans_dest  \n0           NaN       NaN        NaN  \n1           NaN       NaN        NaN  \n2           NaN       NaN        NaN  \n3           NaN       NaN        NaN  \n4           NaN       NaN        NaN  \n...         ...       ...        ...  \n6506        NaN       NaN        NaN  \n6507        NaN       NaN        NaN  \n6508        NaN       NaN        NaN  \n6509        NaN       NaN        NaN  \n6510        NaN       NaN        NaN  \n\n[6491 rows x 36 columns]",
      "text/html": "<div>\n<style scoped>\n    .dataframe tbody tr th:only-of-type {\n        vertical-align: middle;\n    }\n\n    .dataframe tbody tr th {\n        vertical-align: top;\n    }\n\n    .dataframe thead th {\n        text-align: right;\n    }\n</style>\n<table border=\"1\" class=\"dataframe\">\n  <thead>\n    <tr style=\"text-align: right;\">\n      <th></th>\n      <th>id</th>\n      <th>conversation_id</th>\n      <th>created_at</th>\n      <th>date</th>\n      <th>time</th>\n      <th>timezone</th>\n      <th>user_id</th>\n      <th>username</th>\n      <th>name</th>\n      <th>place</th>\n      <th>...</th>\n      <th>geo</th>\n      <th>source</th>\n      <th>user_rt_id</th>\n      <th>user_rt</th>\n      <th>retweet_id</th>\n      <th>reply_to</th>\n      <th>retweet_date</th>\n      <th>translate</th>\n      <th>trans_src</th>\n      <th>trans_dest</th>\n    </tr>\n  </thead>\n  <tbody>\n    <tr>\n      <th>0</th>\n      <td>1013208061908054019</td>\n      <td>1013208061908054019</td>\n      <td>2018-07-01 07:50:01 Malay Peninsula Standard Time</td>\n      <td>2018-07-01</td>\n      <td>07:50:01</td>\n      <td>800</td>\n      <td>15375209</td>\n      <td>manilabulletin</td>\n      <td>Manila Bulletin News</td>\n      <td>NaN</td>\n      <td>...</td>\n      <td>NaN</td>\n      <td>NaN</td>\n      <td>NaN</td>\n      <td>NaN</td>\n      <td>NaN</td>\n      <td>[]</td>\n      <td>NaN</td>\n      <td>NaN</td>\n      <td>NaN</td>\n      <td>NaN</td>\n    </tr>\n    <tr>\n      <th>1</th>\n      <td>1013205544818085893</td>\n      <td>1013205544818085893</td>\n      <td>2018-07-01 07:40:00 Malay Peninsula Standard Time</td>\n      <td>2018-07-01</td>\n      <td>07:40:00</td>\n      <td>800</td>\n      <td>15375209</td>\n      <td>manilabulletin</td>\n      <td>Manila Bulletin News</td>\n      <td>NaN</td>\n      <td>...</td>\n      <td>NaN</td>\n      <td>NaN</td>\n      <td>NaN</td>\n      <td>NaN</td>\n      <td>NaN</td>\n      <td>[]</td>\n      <td>NaN</td>\n      <td>NaN</td>\n      <td>NaN</td>\n      <td>NaN</td>\n    </tr>\n    <tr>\n      <th>2</th>\n      <td>1013203039476436992</td>\n      <td>1013203039476436992</td>\n      <td>2018-07-01 07:30:03 Malay Peninsula Standard Time</td>\n      <td>2018-07-01</td>\n      <td>07:30:03</td>\n      <td>800</td>\n      <td>15375209</td>\n      <td>manilabulletin</td>\n      <td>Manila Bulletin News</td>\n      <td>NaN</td>\n      <td>...</td>\n      <td>NaN</td>\n      <td>NaN</td>\n      <td>NaN</td>\n      <td>NaN</td>\n      <td>NaN</td>\n      <td>[]</td>\n      <td>NaN</td>\n      <td>NaN</td>\n      <td>NaN</td>\n      <td>NaN</td>\n    </tr>\n    <tr>\n      <th>3</th>\n      <td>1013200560001036295</td>\n      <td>1013200560001036295</td>\n      <td>2018-07-01 07:20:12 Malay Peninsula Standard Time</td>\n      <td>2018-07-01</td>\n      <td>07:20:12</td>\n      <td>800</td>\n      <td>15375209</td>\n      <td>manilabulletin</td>\n      <td>Manila Bulletin News</td>\n      <td>NaN</td>\n      <td>...</td>\n      <td>NaN</td>\n      <td>NaN</td>\n      <td>NaN</td>\n      <td>NaN</td>\n      <td>NaN</td>\n      <td>[]</td>\n      <td>NaN</td>\n      <td>NaN</td>\n      <td>NaN</td>\n      <td>NaN</td>\n    </tr>\n    <tr>\n      <th>4</th>\n      <td>1013198750561591296</td>\n      <td>1013198750561591296</td>\n      <td>2018-07-01 07:13:01 Malay Peninsula Standard Time</td>\n      <td>2018-07-01</td>\n      <td>07:13:01</td>\n      <td>800</td>\n      <td>15375209</td>\n      <td>manilabulletin</td>\n      <td>Manila Bulletin News</td>\n      <td>NaN</td>\n      <td>...</td>\n      <td>NaN</td>\n      <td>NaN</td>\n      <td>NaN</td>\n      <td>NaN</td>\n      <td>NaN</td>\n      <td>[]</td>\n      <td>NaN</td>\n      <td>NaN</td>\n      <td>NaN</td>\n      <td>NaN</td>\n    </tr>\n    <tr>\n      <th>...</th>\n      <td>...</td>\n      <td>...</td>\n      <td>...</td>\n      <td>...</td>\n      <td>...</td>\n      <td>...</td>\n      <td>...</td>\n      <td>...</td>\n      <td>...</td>\n      <td>...</td>\n      <td>...</td>\n      <td>...</td>\n      <td>...</td>\n      <td>...</td>\n      <td>...</td>\n      <td>...</td>\n      <td>...</td>\n      <td>...</td>\n      <td>...</td>\n      <td>...</td>\n      <td>...</td>\n    </tr>\n    <tr>\n      <th>6506</th>\n      <td>947842350302277632</td>\n      <td>947842350302277632</td>\n      <td>2018-01-01 22:50:01 Malay Peninsula Standard Time</td>\n      <td>2018-01-01</td>\n      <td>22:50:01</td>\n      <td>800</td>\n      <td>15375209</td>\n      <td>manilabulletin</td>\n      <td>Manila Bulletin News</td>\n      <td>NaN</td>\n      <td>...</td>\n      <td>NaN</td>\n      <td>NaN</td>\n      <td>NaN</td>\n      <td>NaN</td>\n      <td>NaN</td>\n      <td>[]</td>\n      <td>NaN</td>\n      <td>NaN</td>\n      <td>NaN</td>\n      <td>NaN</td>\n    </tr>\n    <tr>\n      <th>6507</th>\n      <td>947839835489882112</td>\n      <td>947839835489882112</td>\n      <td>2018-01-01 22:40:01 Malay Peninsula Standard Time</td>\n      <td>2018-01-01</td>\n      <td>22:40:01</td>\n      <td>800</td>\n      <td>15375209</td>\n      <td>manilabulletin</td>\n      <td>Manila Bulletin News</td>\n      <td>NaN</td>\n      <td>...</td>\n      <td>NaN</td>\n      <td>NaN</td>\n      <td>NaN</td>\n      <td>NaN</td>\n      <td>NaN</td>\n      <td>[]</td>\n      <td>NaN</td>\n      <td>NaN</td>\n      <td>NaN</td>\n      <td>NaN</td>\n    </tr>\n    <tr>\n      <th>6508</th>\n      <td>947838029053378560</td>\n      <td>947828755426263041</td>\n      <td>2018-01-01 22:32:50 Malay Peninsula Standard Time</td>\n      <td>2018-01-01</td>\n      <td>22:32:50</td>\n      <td>800</td>\n      <td>15375209</td>\n      <td>manilabulletin</td>\n      <td>Manila Bulletin News</td>\n      <td>NaN</td>\n      <td>...</td>\n      <td>NaN</td>\n      <td>NaN</td>\n      <td>NaN</td>\n      <td>NaN</td>\n      <td>NaN</td>\n      <td>[]</td>\n      <td>NaN</td>\n      <td>NaN</td>\n      <td>NaN</td>\n      <td>NaN</td>\n    </tr>\n    <tr>\n      <th>6509</th>\n      <td>947837320677519360</td>\n      <td>947837320677519360</td>\n      <td>2018-01-01 22:30:01 Malay Peninsula Standard Time</td>\n      <td>2018-01-01</td>\n      <td>22:30:01</td>\n      <td>800</td>\n      <td>15375209</td>\n      <td>manilabulletin</td>\n      <td>Manila Bulletin News</td>\n      <td>NaN</td>\n      <td>...</td>\n      <td>NaN</td>\n      <td>NaN</td>\n      <td>NaN</td>\n      <td>NaN</td>\n      <td>NaN</td>\n      <td>[]</td>\n      <td>NaN</td>\n      <td>NaN</td>\n      <td>NaN</td>\n      <td>NaN</td>\n    </tr>\n    <tr>\n      <th>6510</th>\n      <td>947834801276547073</td>\n      <td>947834801276547073</td>\n      <td>2018-01-01 22:20:01 Malay Peninsula Standard Time</td>\n      <td>2018-01-01</td>\n      <td>22:20:01</td>\n      <td>800</td>\n      <td>15375209</td>\n      <td>manilabulletin</td>\n      <td>Manila Bulletin News</td>\n      <td>NaN</td>\n      <td>...</td>\n      <td>NaN</td>\n      <td>NaN</td>\n      <td>NaN</td>\n      <td>NaN</td>\n      <td>NaN</td>\n      <td>[]</td>\n      <td>NaN</td>\n      <td>NaN</td>\n      <td>NaN</td>\n      <td>NaN</td>\n    </tr>\n  </tbody>\n</table>\n<p>6491 rows × 36 columns</p>\n</div>"
     },
     "execution_count": 42,
     "metadata": {},
     "output_type": "execute_result"
    }
   ]
  },
  {
   "cell_type": "code",
   "execution_count": 5,
   "outputs": [],
   "source": [
    "json_city = json.load(open(\"Datasets/cities.geojson\", \"r\"))\n",
    "id_map = {}\n",
    "city_map = {}\n",
    "province_map = {}\n",
    "region_map = {}\n",
    "index = 0\n",
    "for feature in json_city[\"features\"]:\n",
    "    #feature[\"id\"] = feature[\"properties\"][\"ID_2\"]\n",
    "    feature[\"id\"] = index\n",
    "    if feature[\"geometry\"] != None:\n",
    "        id_map[feature[\"properties\"][\"NAME_1\"].lower() + \" \" + feature[\"properties\"][\"NAME_2\"].lower()] = feature[\"id\"]\n",
    "        words = feature[\"properties\"][\"NAME_2\"].lower().split()\n",
    "        for w in words:\n",
    "            city_map[w] = feature[\"id\"]\n",
    "        words = feature[\"properties\"][\"NAME_1\"].lower().split()\n",
    "        for w in words:\n",
    "            province_map[w] = feature[\"id\"]\n",
    "        region_map[feature[\"properties\"][\"REGION\"].lower().split(\"(\")[0].strip()] = feature[\"id\"]\n",
    "    index += 1"
   ],
   "metadata": {
    "collapsed": false,
    "pycharm": {
     "name": "#%%\n"
    }
   }
  },
  {
   "cell_type": "code",
   "execution_count": 44,
   "outputs": [
    {
     "data": {
      "text/plain": "                                                  tweet  \\\n3                                love wins metro manila   \n7     kai sottos 23point 12rebound performance prove...   \n14                   tiger growls new putter lurks 11th   \n16          cannabis legalization new england slow burn   \n19                   hamilton fastest soupedup mercedes   \n...                                                 ...   \n6492              movenpick hotel soon rise quezon city   \n6495                           nfl del rio pagano fired   \n6500               north korea may join winter olympics   \n6502                       thai companies invest baguio   \n6509     afp engineers clear 30 marawi areas explosives   \n\n                             coords       loc_name  \\\n3               121.256073/13.70872  manila manila   \n7                 118.06459/8.01956         point    \n14              122.807701/10.86329           new    \n16               122.851707/9.83577           new    \n19               122.0616/16.981449      mercedes    \n...                             ...            ...   \n6492            122.434608/13.02593  quezon quezon   \n6495  123.657417/7.0528200000000005        del del   \n6500              125.14962/6.86581          north   \n6502            120.851852/16.43856        baguio    \n6509             124.512352/7.03065        marawi    \n\n                                      region_name  \n3                             Metropolitan Manila  \n7                          MIMAROPA (Region IV-B)  \n14                    Western Visayas (Region VI)  \n16                    Western Visayas (Region VI)  \n19                     Cagayan Valley (Region II)  \n...                                           ...  \n6492                     CALABARZON (Region IV-A)  \n6495              Zamboanga Peninsula (Region IX)  \n6500                    SOCCSKSARGEN (Region XII)  \n6502       Cordillera Administrative Region (CAR)  \n6509  Autonomous Region of Muslim Mindanao (ARMM)  \n\n[1698 rows x 4 columns]",
      "text/html": "<div>\n<style scoped>\n    .dataframe tbody tr th:only-of-type {\n        vertical-align: middle;\n    }\n\n    .dataframe tbody tr th {\n        vertical-align: top;\n    }\n\n    .dataframe thead th {\n        text-align: right;\n    }\n</style>\n<table border=\"1\" class=\"dataframe\">\n  <thead>\n    <tr style=\"text-align: right;\">\n      <th></th>\n      <th>tweet</th>\n      <th>coords</th>\n      <th>loc_name</th>\n      <th>region_name</th>\n    </tr>\n  </thead>\n  <tbody>\n    <tr>\n      <th>3</th>\n      <td>love wins metro manila</td>\n      <td>121.256073/13.70872</td>\n      <td>manila manila</td>\n      <td>Metropolitan Manila</td>\n    </tr>\n    <tr>\n      <th>7</th>\n      <td>kai sottos 23point 12rebound performance prove...</td>\n      <td>118.06459/8.01956</td>\n      <td>point</td>\n      <td>MIMAROPA (Region IV-B)</td>\n    </tr>\n    <tr>\n      <th>14</th>\n      <td>tiger growls new putter lurks 11th</td>\n      <td>122.807701/10.86329</td>\n      <td>new</td>\n      <td>Western Visayas (Region VI)</td>\n    </tr>\n    <tr>\n      <th>16</th>\n      <td>cannabis legalization new england slow burn</td>\n      <td>122.851707/9.83577</td>\n      <td>new</td>\n      <td>Western Visayas (Region VI)</td>\n    </tr>\n    <tr>\n      <th>19</th>\n      <td>hamilton fastest soupedup mercedes</td>\n      <td>122.0616/16.981449</td>\n      <td>mercedes</td>\n      <td>Cagayan Valley (Region II)</td>\n    </tr>\n    <tr>\n      <th>...</th>\n      <td>...</td>\n      <td>...</td>\n      <td>...</td>\n      <td>...</td>\n    </tr>\n    <tr>\n      <th>6492</th>\n      <td>movenpick hotel soon rise quezon city</td>\n      <td>122.434608/13.02593</td>\n      <td>quezon quezon</td>\n      <td>CALABARZON (Region IV-A)</td>\n    </tr>\n    <tr>\n      <th>6495</th>\n      <td>nfl del rio pagano fired</td>\n      <td>123.657417/7.0528200000000005</td>\n      <td>del del</td>\n      <td>Zamboanga Peninsula (Region IX)</td>\n    </tr>\n    <tr>\n      <th>6500</th>\n      <td>north korea may join winter olympics</td>\n      <td>125.14962/6.86581</td>\n      <td>north</td>\n      <td>SOCCSKSARGEN (Region XII)</td>\n    </tr>\n    <tr>\n      <th>6502</th>\n      <td>thai companies invest baguio</td>\n      <td>120.851852/16.43856</td>\n      <td>baguio</td>\n      <td>Cordillera Administrative Region (CAR)</td>\n    </tr>\n    <tr>\n      <th>6509</th>\n      <td>afp engineers clear 30 marawi areas explosives</td>\n      <td>124.512352/7.03065</td>\n      <td>marawi</td>\n      <td>Autonomous Region of Muslim Mindanao (ARMM)</td>\n    </tr>\n  </tbody>\n</table>\n<p>1698 rows × 4 columns</p>\n</div>"
     },
     "execution_count": 44,
     "metadata": {},
     "output_type": "execute_result"
    }
   ],
   "source": [
    "from nltk import ngrams\n",
    "final_df['coords'] = np.NaN\n",
    "#no_coords = final_df[['tweet','coords','type']]\n",
    "no_coords = final_df[['tweet','coords']]\n",
    "\n",
    "def locate_tweet(text):\n",
    "    found = False\n",
    "    n_gram = 1\n",
    "    while not found:\n",
    "        # spliting the sentence\n",
    "        words = ngrams(text.split(), n_gram)\n",
    "        result = \"\"\n",
    "        text_tokens = word_tokenize(text)\n",
    "        city = \"\"\n",
    "        province = \"\"\n",
    "        init_loc = \"\"\n",
    "        for w in words:\n",
    "            w = re.sub(r'[^a-zA-Z]', '', str(w))\n",
    "            if city_map.__contains__(w) and city == \"\":\n",
    "                city = w\n",
    "                init_loc = w + \" \" + init_loc\n",
    "            if province_map.__contains__(w) and province == \"\":\n",
    "                province = w\n",
    "                init_loc = init_loc  + w\n",
    "            if city != \"\" and province != \"\":\n",
    "                init_loc.strip()\n",
    "                break;\n",
    "        index_loc = -1\n",
    "        if id_map.__contains__(init_loc):\n",
    "            index_loc = id_map[init_loc]\n",
    "        elif province != \"\":\n",
    "            index_loc = province_map[province]\n",
    "        elif city != \"\":\n",
    "            index_loc = city_map[city]\n",
    "        else:\n",
    "            if n_gram == 3:\n",
    "                return np.NaN\n",
    "            n_gram += 1\n",
    "        if index_loc == -1 and n_gram == 3:\n",
    "            return np.NaN\n",
    "        sz = len(json_city[\"features\"][int(index_loc)][\"geometry\"][\"coordinates\"])\n",
    "        sz2 = json_city[\"features\"][int(index_loc)][\"geometry\"][\"coordinates\"][np.random.randint(sz)]\n",
    "        loc = sz2[np.random.randint(len(sz2))]\n",
    "        region = json_city[\"features\"][int(index_loc)][\"properties\"][\"REGION\"]\n",
    "        location = re.findall('\\\\d+.\\\\d+', str(loc))\n",
    "        if loc is not None:\n",
    "            found = True\n",
    "    return str(float(location[1])+-np.random.randint(2))+\"/\"+str(float(location[0])+0.25)+\":\"+init_loc+\":\"+region\n",
    "\n",
    "no_coords['coords'] = no_coords['tweet'].apply(locate_tweet)\n",
    "\n",
    "regions = json.load(open(\"Datasets/Regions.json\", \"r\"))\n",
    "\n",
    "# Add Names\n",
    "def add_location_name(text):\n",
    "    return text.split(\":\")[1]\n",
    "def add_region(text):\n",
    "    return text.split(\":\")[2]\n",
    "\n",
    "no_coords['loc_name'] = no_coords['coords'].apply(add_location_name)\n",
    "no_coords['region_name'] = no_coords['coords'].apply(add_region)\n",
    "no_coords = no_coords.loc[no_coords['loc_name'] != \"\"]\n",
    "# Preprocess\n",
    "def preprocess_coords(coords):\n",
    "    numbers = re.findall('\\\\d+', coords)\n",
    "    return numbers[2]+\".\"+numbers[3]+\"/\"+numbers[0]+\".\"+numbers[1]\n",
    "\n",
    "no_coords['coords'] = no_coords['coords'].apply(preprocess_coords)\n",
    "\n",
    "no_coords"
   ],
   "metadata": {
    "collapsed": false,
    "pycharm": {
     "name": "#%%\n"
    }
   }
  },
  {
   "cell_type": "markdown",
   "source": [
    "Text Classification"
   ],
   "metadata": {
    "collapsed": false,
    "pycharm": {
     "name": "#%% md\n"
    }
   }
  },
  {
   "cell_type": "code",
   "execution_count": 45,
   "outputs": [
    {
     "data": {
      "text/plain": "                                                  tweet               coords  \\\n57       2 drug suspects killed 16 others nabbed cavite  121.087608/13.26852   \n148   syria troops launch assault daraa city amid ci...   123.568489/7.83338   \n210               p1m shabu seized bacolod city buybust  123.294868/10.68804   \n221   alaska city honors guardsmen killed crash 64 q...   123.735847/6.82222   \n230   alaska city honors guardsmen killed crash 64 q...   123.676559/7.80982   \n...                                                 ...                  ...   \n5868  enrile martial law extension deter terrorism m...  121.99823/16.606159   \n6046  former customs commissioner faeldon released d...    121.4552/14.54581   \n6147        bulacan five killed 95 nabbed antidrugs ops  121.148407/14.71313   \n6405  look two different computerized facial composi...   123.138893/7.40389   \n6411  pasay police says already leads identity one f...   121.26548/13.53194   \n\n             loc_name                      region_name                  type  \n57      cavite cavite         CALABARZON (Region IV-A)                murder  \n148             city   Zamboanga Peninsula (Region IX)       physical injury  \n210          bacolod       Western Visayas (Region VI)                  drug  \n221             city   Zamboanga Peninsula (Region IX)                murder  \n230             city   Zamboanga Peninsula (Region IX)                murder  \n...               ...                              ...                   ...  \n5868          enrile        Cagayan Valley (Region II)             terrorism  \n6046      rizal rizal         CALABARZON (Region IV-A)  wrongful restraining  \n6147  bulacan bulacan       Central Luzon (Region III)                murder  \n6405         mabuhay   Zamboanga Peninsula (Region IX)               robbery  \n6411           pasay               Metropolitan Manila               robbery  \n\n[130 rows x 5 columns]",
      "text/html": "<div>\n<style scoped>\n    .dataframe tbody tr th:only-of-type {\n        vertical-align: middle;\n    }\n\n    .dataframe tbody tr th {\n        vertical-align: top;\n    }\n\n    .dataframe thead th {\n        text-align: right;\n    }\n</style>\n<table border=\"1\" class=\"dataframe\">\n  <thead>\n    <tr style=\"text-align: right;\">\n      <th></th>\n      <th>tweet</th>\n      <th>coords</th>\n      <th>loc_name</th>\n      <th>region_name</th>\n      <th>type</th>\n    </tr>\n  </thead>\n  <tbody>\n    <tr>\n      <th>57</th>\n      <td>2 drug suspects killed 16 others nabbed cavite</td>\n      <td>121.087608/13.26852</td>\n      <td>cavite cavite</td>\n      <td>CALABARZON (Region IV-A)</td>\n      <td>murder</td>\n    </tr>\n    <tr>\n      <th>148</th>\n      <td>syria troops launch assault daraa city amid ci...</td>\n      <td>123.568489/7.83338</td>\n      <td>city</td>\n      <td>Zamboanga Peninsula (Region IX)</td>\n      <td>physical injury</td>\n    </tr>\n    <tr>\n      <th>210</th>\n      <td>p1m shabu seized bacolod city buybust</td>\n      <td>123.294868/10.68804</td>\n      <td>bacolod</td>\n      <td>Western Visayas (Region VI)</td>\n      <td>drug</td>\n    </tr>\n    <tr>\n      <th>221</th>\n      <td>alaska city honors guardsmen killed crash 64 q...</td>\n      <td>123.735847/6.82222</td>\n      <td>city</td>\n      <td>Zamboanga Peninsula (Region IX)</td>\n      <td>murder</td>\n    </tr>\n    <tr>\n      <th>230</th>\n      <td>alaska city honors guardsmen killed crash 64 q...</td>\n      <td>123.676559/7.80982</td>\n      <td>city</td>\n      <td>Zamboanga Peninsula (Region IX)</td>\n      <td>murder</td>\n    </tr>\n    <tr>\n      <th>...</th>\n      <td>...</td>\n      <td>...</td>\n      <td>...</td>\n      <td>...</td>\n      <td>...</td>\n    </tr>\n    <tr>\n      <th>5868</th>\n      <td>enrile martial law extension deter terrorism m...</td>\n      <td>121.99823/16.606159</td>\n      <td>enrile</td>\n      <td>Cagayan Valley (Region II)</td>\n      <td>terrorism</td>\n    </tr>\n    <tr>\n      <th>6046</th>\n      <td>former customs commissioner faeldon released d...</td>\n      <td>121.4552/14.54581</td>\n      <td>rizal rizal</td>\n      <td>CALABARZON (Region IV-A)</td>\n      <td>wrongful restraining</td>\n    </tr>\n    <tr>\n      <th>6147</th>\n      <td>bulacan five killed 95 nabbed antidrugs ops</td>\n      <td>121.148407/14.71313</td>\n      <td>bulacan bulacan</td>\n      <td>Central Luzon (Region III)</td>\n      <td>murder</td>\n    </tr>\n    <tr>\n      <th>6405</th>\n      <td>look two different computerized facial composi...</td>\n      <td>123.138893/7.40389</td>\n      <td>mabuhay</td>\n      <td>Zamboanga Peninsula (Region IX)</td>\n      <td>robbery</td>\n    </tr>\n    <tr>\n      <th>6411</th>\n      <td>pasay police says already leads identity one f...</td>\n      <td>121.26548/13.53194</td>\n      <td>pasay</td>\n      <td>Metropolitan Manila</td>\n      <td>robbery</td>\n    </tr>\n  </tbody>\n</table>\n<p>130 rows × 5 columns</p>\n</div>"
     },
     "execution_count": 45,
     "metadata": {},
     "output_type": "execute_result"
    }
   ],
   "source": [
    "word_map = {\n",
    "    'murder': ['murder','assassinate','massacre','homicide','regicide','butcher','robberyslay', 'killed'],\n",
    "    'physical injury': ['assault','battery','mugging','manhandling'],\n",
    "    'kidnapping': ['kidnap','kidnapping','abduction','abductors','kidnapped'],\n",
    "    'rape':['rape','sexual assault','molest','molestation','defilement','deflowering','raping','rapist','harrassing','harrass','nude'],\n",
    "    'robbery':['robbery','theft','steal','stealing','thieving','robbing','shoplift','shoplifting','holdup','robberyextortion','extortion', 'extortionist'],\n",
    "    'carnapping':['carnapping','hijacking','hijack'],\n",
    "    'drug':['drug','shabu','drugs','marijuana','buybust','9165', 'pusher', 'dealer'],\n",
    "    'terrorism':['cppnpa','cppnpandf','ctg','terrorist','terrorists','terrorism','private','syndicate','abu sayyaf', 'extremist'],\n",
    "    'obstruction':['resistance','resisted','obstruction'],\n",
    "    'smuggling':['smuggling','smuggle','smuggled','contraband','export','fugitive','fugitives','trafficking','smuggler'],\n",
    "    'fraud':['fraud','fraudulent','scam','forgery','counterfeit','manufacture','scammer','fake','falsification'],\n",
    "    'illegal possession':['possession','ban','10591'],\n",
    "    'wanted':['wanted','manhunt'],\n",
    "    'wrongful restraining': ['illegal detention','detention']\n",
    "}\n",
    "\n",
    "def analysis(tweet):\n",
    "    words = word_tokenize(tweet)\n",
    "    for prefix in word_map:\n",
    "        match_score = 0\n",
    "        for word in words:\n",
    "            if word in word_map[prefix]:\n",
    "                match_score += 1\n",
    "                if match_score > 0:\n",
    "                    return prefix\n",
    "    return \"non\"\n",
    "\n",
    "no_coords['type'] = no_coords['tweet'].apply(analysis)\n",
    "no_coords[no_coords['type'] != 'non']"
   ],
   "metadata": {
    "collapsed": false,
    "pycharm": {
     "name": "#%%\n"
    }
   }
  },
  {
   "cell_type": "markdown",
   "source": [
    "Model Training and Evaluation"
   ],
   "metadata": {
    "collapsed": false,
    "pycharm": {
     "name": "#%% md\n"
    }
   }
  },
  {
   "cell_type": "code",
   "execution_count": 24,
   "outputs": [
    {
     "name": "stdout",
     "output_type": "stream",
     "text": [
      "Train size: 1364\n",
      "Test size: 341\n",
      "\n",
      "Total rows (Unsplit): 1705\n",
      "Total rows (Split): 1705\n"
     ]
    }
   ],
   "source": [
    "from sklearn.model_selection import train_test_split\n",
    "df = no_coords[['tweet', 'type', 'region_name', 'coords']].dropna()\n",
    "X = df.tweet\n",
    "y = df.type\n",
    "\n",
    "X_train, X_test, y_train, y_test = train_test_split(X, y, train_size=0.8)\n",
    "\n",
    "print( \"Train size: \" + str(X_train.shape[0]))\n",
    "print( \"Test size: \" + str(X_test.shape[0]))\n",
    "print(\"\\nTotal rows (Unsplit): \" + str(df.shape[0]))\n",
    "print(\"Total rows (Split): \" + str(X_train.shape[0] + X_test.shape[0]))"
   ],
   "metadata": {
    "collapsed": false,
    "pycharm": {
     "name": "#%%\n"
    }
   }
  },
  {
   "cell_type": "code",
   "execution_count": 25,
   "outputs": [
    {
     "name": "stdout",
     "output_type": "stream",
     "text": [
      "                    precision    recall  f1-score   support\n",
      "\n",
      "              drug       0.00      0.00      0.00         3\n",
      "             fraud       0.00      0.00      0.00         2\n",
      "illegal possession       0.00      0.00      0.00         4\n",
      "            murder       0.00      0.00      0.00         7\n",
      "               non       0.93      1.00      0.96       317\n",
      "       obstruction       0.00      0.00      0.00         1\n",
      "           robbery       0.00      0.00      0.00         2\n",
      "         smuggling       0.00      0.00      0.00         1\n",
      "         terrorism       0.00      0.00      0.00         4\n",
      "\n",
      "          accuracy                           0.93       341\n",
      "         macro avg       0.10      0.11      0.11       341\n",
      "      weighted avg       0.86      0.93      0.90       341\n",
      "\n"
     ]
    },
    {
     "data": {
      "text/plain": "                                                   Text Actual Value  \\\n5729          7hour fire hits cavite economic zone read          non   \n1563  jimenez ibig sabihin nag open time may failure...          non   \n1871  look president duterte shakes tourism secretar...          non   \n5397            thank support president rodrigo duterte          non   \n895             ictsi boost operation mict 3 new cranes          non   \n...                                                 ...          ...   \n3943           palo summit boosts family planning drive          non   \n4074  pwds undergo disaster preparedness training be...          non   \n4376     tonight manila bulletin head office intramuros          non   \n2456              ecija family massacre survivor danger       murder   \n758   north korean us officials air differences eve ...          non   \n\n     Predicted Value  \n5729             non  \n1563             non  \n1871             non  \n5397             non  \n895              non  \n...              ...  \n3943             non  \n4074             non  \n4376             non  \n2456             non  \n758              non  \n\n[341 rows x 3 columns]",
      "text/html": "<div>\n<style scoped>\n    .dataframe tbody tr th:only-of-type {\n        vertical-align: middle;\n    }\n\n    .dataframe tbody tr th {\n        vertical-align: top;\n    }\n\n    .dataframe thead th {\n        text-align: right;\n    }\n</style>\n<table border=\"1\" class=\"dataframe\">\n  <thead>\n    <tr style=\"text-align: right;\">\n      <th></th>\n      <th>Text</th>\n      <th>Actual Value</th>\n      <th>Predicted Value</th>\n    </tr>\n  </thead>\n  <tbody>\n    <tr>\n      <th>5729</th>\n      <td>7hour fire hits cavite economic zone read</td>\n      <td>non</td>\n      <td>non</td>\n    </tr>\n    <tr>\n      <th>1563</th>\n      <td>jimenez ibig sabihin nag open time may failure...</td>\n      <td>non</td>\n      <td>non</td>\n    </tr>\n    <tr>\n      <th>1871</th>\n      <td>look president duterte shakes tourism secretar...</td>\n      <td>non</td>\n      <td>non</td>\n    </tr>\n    <tr>\n      <th>5397</th>\n      <td>thank support president rodrigo duterte</td>\n      <td>non</td>\n      <td>non</td>\n    </tr>\n    <tr>\n      <th>895</th>\n      <td>ictsi boost operation mict 3 new cranes</td>\n      <td>non</td>\n      <td>non</td>\n    </tr>\n    <tr>\n      <th>...</th>\n      <td>...</td>\n      <td>...</td>\n      <td>...</td>\n    </tr>\n    <tr>\n      <th>3943</th>\n      <td>palo summit boosts family planning drive</td>\n      <td>non</td>\n      <td>non</td>\n    </tr>\n    <tr>\n      <th>4074</th>\n      <td>pwds undergo disaster preparedness training be...</td>\n      <td>non</td>\n      <td>non</td>\n    </tr>\n    <tr>\n      <th>4376</th>\n      <td>tonight manila bulletin head office intramuros</td>\n      <td>non</td>\n      <td>non</td>\n    </tr>\n    <tr>\n      <th>2456</th>\n      <td>ecija family massacre survivor danger</td>\n      <td>murder</td>\n      <td>non</td>\n    </tr>\n    <tr>\n      <th>758</th>\n      <td>north korean us officials air differences eve ...</td>\n      <td>non</td>\n      <td>non</td>\n    </tr>\n  </tbody>\n</table>\n<p>341 rows × 3 columns</p>\n</div>"
     },
     "execution_count": 25,
     "metadata": {},
     "output_type": "execute_result"
    }
   ],
   "source": [
    "# NB Classification\n",
    "from sklearn.pipeline import Pipeline\n",
    "from sklearn.feature_extraction.text import TfidfTransformer\n",
    "from sklearn.naive_bayes import MultinomialNB\n",
    "from sklearn.feature_extraction.text import CountVectorizer\n",
    "text_clf = Pipeline([('vect', CountVectorizer()),\n",
    "                     ('tfidf', TfidfTransformer()),\n",
    "                     ('clf', MultinomialNB())])\n",
    "text_clf = text_clf.fit(X_train, y_train)\n",
    "# NB Metrics\n",
    "from sklearn import metrics\n",
    "predicted = text_clf.predict(X_test)\n",
    "print(metrics.classification_report(y_test, predicted))\n",
    "# Show difference\n",
    "pred_y_df=pd.DataFrame({'Text':X_test ,'Actual Value':y_test,'Predicted Value':predicted})\n",
    "#pred_y_df[pred_y_df['Predicted Value'] == 'non']\n",
    "pred_y_df"
   ],
   "metadata": {
    "collapsed": false,
    "pycharm": {
     "name": "#%%\n"
    }
   }
  },
  {
   "cell_type": "code",
   "execution_count": 26,
   "outputs": [
    {
     "name": "stdout",
     "output_type": "stream",
     "text": [
      "                    precision    recall  f1-score   support\n",
      "\n",
      "              drug       1.00      0.67      0.80         3\n",
      "             fraud       1.00      0.50      0.67         2\n",
      "illegal possession       1.00      0.25      0.40         4\n",
      "            murder       1.00      0.29      0.44         7\n",
      "               non       0.96      1.00      0.98       317\n",
      "       obstruction       0.00      0.00      0.00         1\n",
      "           robbery       0.00      0.00      0.00         2\n",
      "         smuggling       0.00      0.00      0.00         1\n",
      "         terrorism       1.00      1.00      1.00         4\n",
      "\n",
      "          accuracy                           0.96       341\n",
      "         macro avg       0.66      0.41      0.48       341\n",
      "      weighted avg       0.95      0.96      0.95       341\n",
      "\n"
     ]
    },
    {
     "data": {
      "text/plain": "                                                   Text Actual Value  \\\n5729          7hour fire hits cavite economic zone read          non   \n1563  jimenez ibig sabihin nag open time may failure...          non   \n1871  look president duterte shakes tourism secretar...          non   \n5397            thank support president rodrigo duterte          non   \n895             ictsi boost operation mict 3 new cranes          non   \n...                                                 ...          ...   \n3943           palo summit boosts family planning drive          non   \n4074  pwds undergo disaster preparedness training be...          non   \n4376     tonight manila bulletin head office intramuros          non   \n2456              ecija family massacre survivor danger       murder   \n758   north korean us officials air differences eve ...          non   \n\n     Predicted Value  \n5729             non  \n1563             non  \n1871             non  \n5397             non  \n895              non  \n...              ...  \n3943             non  \n4074             non  \n4376             non  \n2456             non  \n758              non  \n\n[341 rows x 3 columns]",
      "text/html": "<div>\n<style scoped>\n    .dataframe tbody tr th:only-of-type {\n        vertical-align: middle;\n    }\n\n    .dataframe tbody tr th {\n        vertical-align: top;\n    }\n\n    .dataframe thead th {\n        text-align: right;\n    }\n</style>\n<table border=\"1\" class=\"dataframe\">\n  <thead>\n    <tr style=\"text-align: right;\">\n      <th></th>\n      <th>Text</th>\n      <th>Actual Value</th>\n      <th>Predicted Value</th>\n    </tr>\n  </thead>\n  <tbody>\n    <tr>\n      <th>5729</th>\n      <td>7hour fire hits cavite economic zone read</td>\n      <td>non</td>\n      <td>non</td>\n    </tr>\n    <tr>\n      <th>1563</th>\n      <td>jimenez ibig sabihin nag open time may failure...</td>\n      <td>non</td>\n      <td>non</td>\n    </tr>\n    <tr>\n      <th>1871</th>\n      <td>look president duterte shakes tourism secretar...</td>\n      <td>non</td>\n      <td>non</td>\n    </tr>\n    <tr>\n      <th>5397</th>\n      <td>thank support president rodrigo duterte</td>\n      <td>non</td>\n      <td>non</td>\n    </tr>\n    <tr>\n      <th>895</th>\n      <td>ictsi boost operation mict 3 new cranes</td>\n      <td>non</td>\n      <td>non</td>\n    </tr>\n    <tr>\n      <th>...</th>\n      <td>...</td>\n      <td>...</td>\n      <td>...</td>\n    </tr>\n    <tr>\n      <th>3943</th>\n      <td>palo summit boosts family planning drive</td>\n      <td>non</td>\n      <td>non</td>\n    </tr>\n    <tr>\n      <th>4074</th>\n      <td>pwds undergo disaster preparedness training be...</td>\n      <td>non</td>\n      <td>non</td>\n    </tr>\n    <tr>\n      <th>4376</th>\n      <td>tonight manila bulletin head office intramuros</td>\n      <td>non</td>\n      <td>non</td>\n    </tr>\n    <tr>\n      <th>2456</th>\n      <td>ecija family massacre survivor danger</td>\n      <td>murder</td>\n      <td>non</td>\n    </tr>\n    <tr>\n      <th>758</th>\n      <td>north korean us officials air differences eve ...</td>\n      <td>non</td>\n      <td>non</td>\n    </tr>\n  </tbody>\n</table>\n<p>341 rows × 3 columns</p>\n</div>"
     },
     "execution_count": 26,
     "metadata": {},
     "output_type": "execute_result"
    }
   ],
   "source": [
    "# SVM Classification\n",
    "from sklearn.linear_model import SGDClassifier\n",
    "import pickle\n",
    "text_clf_svm = Pipeline([('vect', CountVectorizer()),\n",
    "                         ('tfidf', TfidfTransformer()),\n",
    "                         ('clf-svm', SGDClassifier(loss='hinge', penalty='l2',\n",
    "                                                   alpha=1e-3, n_iter_no_change=5, random_state=42))])\n",
    "text_clf_svm = text_clf_svm.fit(X_train, y_train)\n",
    "\n",
    "# SVM Metrics\n",
    "from sklearn import metrics\n",
    "predicted_svm = text_clf_svm.predict(X_test)\n",
    "print(metrics.classification_report(y_test, predicted_svm))\n",
    "# Show difference\n",
    "pred_y_df=pd.DataFrame({'Text':X_test ,'Actual Value':y_test,'Predicted Value':predicted_svm})\n",
    "\n",
    "pkl_filename = \"pickle_model.pkl\"\n",
    "with open(pkl_filename, 'wb') as file:\n",
    "    pickle.dump(text_clf_svm, file)\n",
    "pred_y_df"
   ],
   "metadata": {
    "collapsed": false,
    "pycharm": {
     "name": "#%%\n"
    }
   }
  },
  {
   "cell_type": "code",
   "execution_count": 11,
   "outputs": [
    {
     "name": "stdout",
     "output_type": "stream",
     "text": [
      "              precision    recall  f1-score   support\n",
      "\n",
      "  carnapping       0.00      0.00      0.00         1\n",
      "        drug       0.64      1.00      0.78        41\n",
      "       fraud       0.00      0.00      0.00         3\n",
      "  kidnapping       0.00      0.00      0.00         1\n",
      "      murder       1.00      0.27      0.43        11\n",
      "        rape       0.00      0.00      0.00         1\n",
      "     robbery       0.00      0.00      0.00         2\n",
      "   smuggling       0.00      0.00      0.00         3\n",
      "   terrorism       0.00      0.00      0.00         3\n",
      "      wanted       0.00      0.00      0.00         1\n",
      "\n",
      "    accuracy                           0.66        67\n",
      "   macro avg       0.16      0.13      0.12        67\n",
      "weighted avg       0.56      0.66      0.55        67\n",
      "\n"
     ]
    }
   ],
   "source": [
    "from sklearn.linear_model import LogisticRegression\n",
    "\n",
    "text_clf_log = Pipeline([('vect', CountVectorizer()),\n",
    "                     ('tfidf', TfidfTransformer()),\n",
    "                     ('clf', LogisticRegression())])\n",
    "text_clf_log = text_clf_log.fit(X_train, y_train)\n",
    "# NB Metrics\n",
    "from sklearn import metrics\n",
    "predicted = text_clf_log.predict(X_test)\n",
    "print(metrics.classification_report(y_test, predicted))\n",
    "# Show difference\n",
    "pred_y_df=pd.DataFrame({'Text':X_test ,'Actual Value':y_test,'Predicted Value':predicted})\n"
   ],
   "metadata": {
    "collapsed": false,
    "pycharm": {
     "name": "#%%\n"
    }
   }
  },
  {
   "cell_type": "code",
   "execution_count": 15,
   "outputs": [
    {
     "data": {
      "text/plain": "3                                  love wins metro manila\n7       kai sottos 23point 12rebound performance prove...\n14                     tiger growls new putter lurks 11th\n16            cannabis legalization new england slow burn\n19                     hamilton fastest soupedup mercedes\n                              ...                        \n6492                movenpick hotel soon rise quezon city\n6495                             nfl del rio pagano fired\n6500                 north korea may join winter olympics\n6502                         thai companies invest baguio\n6509       afp engineers clear 30 marawi areas explosives\nName: tweet, Length: 1705, dtype: object"
     },
     "execution_count": 15,
     "metadata": {},
     "output_type": "execute_result"
    }
   ],
   "source": [
    "no_coords.tweet"
   ],
   "metadata": {
    "collapsed": false,
    "pycharm": {
     "name": "#%%\n"
    }
   }
  },
  {
   "cell_type": "code",
   "execution_count": 29,
   "outputs": [
    {
     "data": {
      "text/plain": "                                                  tweet    type\n57       2 drug suspects killed 16 others nabbed cavite  murder\n210               p1m shabu seized bacolod city buybust    drug\n221   alaska city honors guardsmen killed crash 64 q...  murder\n230   alaska city honors guardsmen killed crash 64 q...  murder\n486   two suspected motorcycleriding robbers killed ...  murder\n...                                                 ...     ...\n5531  look one kilogram shabu worth p18 million inte...    drug\n5658         iligan police nab dswd employee drug sting    drug\n5667  pnp formalizes new guidelines policies antiill...    drug\n5700      exsk chairman arrested shabu oriental mindoro    drug\n5805  de lima rejoices small victory battling drug case    drug\n\n[84 rows x 2 columns]",
      "text/html": "<div>\n<style scoped>\n    .dataframe tbody tr th:only-of-type {\n        vertical-align: middle;\n    }\n\n    .dataframe tbody tr th {\n        vertical-align: top;\n    }\n\n    .dataframe thead th {\n        text-align: right;\n    }\n</style>\n<table border=\"1\" class=\"dataframe\">\n  <thead>\n    <tr style=\"text-align: right;\">\n      <th></th>\n      <th>tweet</th>\n      <th>type</th>\n    </tr>\n  </thead>\n  <tbody>\n    <tr>\n      <th>57</th>\n      <td>2 drug suspects killed 16 others nabbed cavite</td>\n      <td>murder</td>\n    </tr>\n    <tr>\n      <th>210</th>\n      <td>p1m shabu seized bacolod city buybust</td>\n      <td>drug</td>\n    </tr>\n    <tr>\n      <th>221</th>\n      <td>alaska city honors guardsmen killed crash 64 q...</td>\n      <td>murder</td>\n    </tr>\n    <tr>\n      <th>230</th>\n      <td>alaska city honors guardsmen killed crash 64 q...</td>\n      <td>murder</td>\n    </tr>\n    <tr>\n      <th>486</th>\n      <td>two suspected motorcycleriding robbers killed ...</td>\n      <td>murder</td>\n    </tr>\n    <tr>\n      <th>...</th>\n      <td>...</td>\n      <td>...</td>\n    </tr>\n    <tr>\n      <th>5531</th>\n      <td>look one kilogram shabu worth p18 million inte...</td>\n      <td>drug</td>\n    </tr>\n    <tr>\n      <th>5658</th>\n      <td>iligan police nab dswd employee drug sting</td>\n      <td>drug</td>\n    </tr>\n    <tr>\n      <th>5667</th>\n      <td>pnp formalizes new guidelines policies antiill...</td>\n      <td>drug</td>\n    </tr>\n    <tr>\n      <th>5700</th>\n      <td>exsk chairman arrested shabu oriental mindoro</td>\n      <td>drug</td>\n    </tr>\n    <tr>\n      <th>5805</th>\n      <td>de lima rejoices small victory battling drug case</td>\n      <td>drug</td>\n    </tr>\n  </tbody>\n</table>\n<p>84 rows × 2 columns</p>\n</div>"
     },
     "execution_count": 29,
     "metadata": {},
     "output_type": "execute_result"
    }
   ],
   "source": [
    "pred_y_df=pd.DataFrame({'tweet':no_coords.tweet ,'type':text_clf_svm.predict(no_coords.tweet)})\n",
    "pred_y_df[pred_y_df['type'] != 'non']"
   ],
   "metadata": {
    "collapsed": false,
    "pycharm": {
     "name": "#%%\n"
    }
   }
  },
  {
   "cell_type": "markdown",
   "source": [
    "Heat Map"
   ],
   "metadata": {
    "collapsed": false,
    "pycharm": {
     "name": "#%% md\n"
    }
   }
  },
  {
   "cell_type": "code",
   "execution_count": 65,
   "outputs": [
    {
     "data": {
      "text/plain": "                 coords    type\n0    124.499069/8.69807  wanted\n1    121.806137/6.02781  wanted\n2    123.550583/8.46034  wanted\n3    125.003799/7.65322  wanted\n4   125.523331/11.77796  wanted\n5    123.570129/7.85836  wanted\n6    123.511253/7.96449  wanted\n7   120.637497/15.86502  wanted\n8   125.497231/11.90894  wanted\n9   122.320763/13.10026  wanted\n10  124.794487/10.29055  wanted\n11   125.971947/6.99882  wanted\n12  120.577988/15.96585  wanted\n13  122.662216/11.67639  wanted\n14  120.557243/15.84817  wanted\n15   121.525726/5.01862  wanted\n16   123.856239/9.17919  wanted\n17   124.694077/9.62794  wanted\n18  120.558853/15.84632  wanted\n19  123.666298/12.88864  wanted\n20   124.985786/6.09358  wanted",
      "text/html": "<div>\n<style scoped>\n    .dataframe tbody tr th:only-of-type {\n        vertical-align: middle;\n    }\n\n    .dataframe tbody tr th {\n        vertical-align: top;\n    }\n\n    .dataframe thead th {\n        text-align: right;\n    }\n</style>\n<table border=\"1\" class=\"dataframe\">\n  <thead>\n    <tr style=\"text-align: right;\">\n      <th></th>\n      <th>coords</th>\n      <th>type</th>\n    </tr>\n  </thead>\n  <tbody>\n    <tr>\n      <th>0</th>\n      <td>124.499069/8.69807</td>\n      <td>wanted</td>\n    </tr>\n    <tr>\n      <th>1</th>\n      <td>121.806137/6.02781</td>\n      <td>wanted</td>\n    </tr>\n    <tr>\n      <th>2</th>\n      <td>123.550583/8.46034</td>\n      <td>wanted</td>\n    </tr>\n    <tr>\n      <th>3</th>\n      <td>125.003799/7.65322</td>\n      <td>wanted</td>\n    </tr>\n    <tr>\n      <th>4</th>\n      <td>125.523331/11.77796</td>\n      <td>wanted</td>\n    </tr>\n    <tr>\n      <th>5</th>\n      <td>123.570129/7.85836</td>\n      <td>wanted</td>\n    </tr>\n    <tr>\n      <th>6</th>\n      <td>123.511253/7.96449</td>\n      <td>wanted</td>\n    </tr>\n    <tr>\n      <th>7</th>\n      <td>120.637497/15.86502</td>\n      <td>wanted</td>\n    </tr>\n    <tr>\n      <th>8</th>\n      <td>125.497231/11.90894</td>\n      <td>wanted</td>\n    </tr>\n    <tr>\n      <th>9</th>\n      <td>122.320763/13.10026</td>\n      <td>wanted</td>\n    </tr>\n    <tr>\n      <th>10</th>\n      <td>124.794487/10.29055</td>\n      <td>wanted</td>\n    </tr>\n    <tr>\n      <th>11</th>\n      <td>125.971947/6.99882</td>\n      <td>wanted</td>\n    </tr>\n    <tr>\n      <th>12</th>\n      <td>120.577988/15.96585</td>\n      <td>wanted</td>\n    </tr>\n    <tr>\n      <th>13</th>\n      <td>122.662216/11.67639</td>\n      <td>wanted</td>\n    </tr>\n    <tr>\n      <th>14</th>\n      <td>120.557243/15.84817</td>\n      <td>wanted</td>\n    </tr>\n    <tr>\n      <th>15</th>\n      <td>121.525726/5.01862</td>\n      <td>wanted</td>\n    </tr>\n    <tr>\n      <th>16</th>\n      <td>123.856239/9.17919</td>\n      <td>wanted</td>\n    </tr>\n    <tr>\n      <th>17</th>\n      <td>124.694077/9.62794</td>\n      <td>wanted</td>\n    </tr>\n    <tr>\n      <th>18</th>\n      <td>120.558853/15.84632</td>\n      <td>wanted</td>\n    </tr>\n    <tr>\n      <th>19</th>\n      <td>123.666298/12.88864</td>\n      <td>wanted</td>\n    </tr>\n    <tr>\n      <th>20</th>\n      <td>124.985786/6.09358</td>\n      <td>wanted</td>\n    </tr>\n  </tbody>\n</table>\n</div>"
     },
     "execution_count": 65,
     "metadata": {},
     "output_type": "execute_result"
    }
   ],
   "source": [
    "specific_df = df[df['type'] != 'non'].reset_index()[['coords','type']]\n",
    "type = \"wanted\"\n",
    "if type != \"all\":\n",
    "    specific_df = specific_df[specific_df['type'] == type].reset_index()[['coords','type']]\n",
    "specific_df"
   ],
   "metadata": {
    "collapsed": false,
    "pycharm": {
     "name": "#%%\n"
    }
   }
  },
  {
   "cell_type": "code",
   "execution_count": 66,
   "outputs": [],
   "source": [
    "# Heat map test\n",
    "import folium\n",
    "from folium.plugins import HeatMap\n",
    "\n",
    "heat_list = []\n",
    "for _loc in range(specific_df.shape[0]):\n",
    "#for _loc in range(10):\n",
    "    temp = specific_df.coords[_loc].split(\"/\")\n",
    "    heat_list.append([float(temp[1]), float(temp[0]), 1])\n",
    "#heat_list = [[11.33877, 124.552177, 0.8]]\n",
    "\n",
    "mapObj = folium.Map([12, 122], zoom_start=6)\n",
    "gradient={'0.0':'Navy', '0.25':'Blue','0.5':'Green', '0.75':'Yellow','1': 'Red'}\n",
    "#HeatMap(data=heat_list, gradient=gradient, radius=25, blur = 10, min_opacity = 0.25, max_val = 0.0005).add_to(mapObj)\n",
    "HeatMap(heat_list,radius=25, max_zoom=13).add_to(mapObj)\n",
    "mapObj.save(\"output.html\")"
   ],
   "metadata": {
    "collapsed": false,
    "pycharm": {
     "name": "#%%\n"
    }
   }
  },
  {
   "cell_type": "markdown",
   "source": [
    "Plot per region"
   ],
   "metadata": {
    "collapsed": false,
    "pycharm": {
     "name": "#%% md\n"
    }
   }
  },
  {
   "cell_type": "code",
   "execution_count": 14,
   "outputs": [],
   "source": [
    "pred =text_clf_svm.predict(df.tweet)\n",
    "len(pred)\n",
    "pred_df =pd.DataFrame({'tweet':df.tweet ,'type':pred, 'region': df.region_name})\n",
    "pred_df[['type', 'region']].to_csv(\"crimes.csv\")"
   ],
   "metadata": {
    "collapsed": false,
    "pycharm": {
     "name": "#%%\n"
    }
   }
  },
  {
   "cell_type": "code",
   "execution_count": 95,
   "outputs": [
    {
     "data": {
      "text/plain": "                                    Region Name Most Likely Crime  \\\n0                       Bicol Region (Region V)              drug   \n1               Zamboanga Peninsula (Region IX)              drug   \n2                    Cagayan Valley (Region II)              drug   \n3                  Central Visayas (Region VII)              drug   \n4   Autonomous Region of Muslim Mindanao (ARMM)              drug   \n5                   Western Visayas (Region VI)              drug   \n6                        MIMAROPA (Region IV-B)              drug   \n7        Cordillera Administrative Region (CAR)              drug   \n8                      CALABARZON (Region IV-A)              drug   \n9                 Eastern Visayas (Region VIII)              drug   \n10                     Davao Region (Region XI)              drug   \n11                    SOCCSKSARGEN (Region XII)              drug   \n12                          Metropolitan Manila              drug   \n13                     Ilocos Region (Region I)              drug   \n14                   Central Luzon (Region III)              drug   \n15                 Northern Mindanao (Region X)              drug   \n16                         Caraga (Region XIII)            wanted   \n\n    Probability Percent of Most Likely Crime  \\\n0                                  46.666667   \n1                                  58.333333   \n2                                  75.000000   \n3                                  81.395349   \n4                                  35.294118   \n5                                  60.000000   \n6                                 100.000000   \n7                                  96.153846   \n8                                  72.727273   \n9                                  43.478261   \n10                                 70.000000   \n11                                 83.333333   \n12                                 71.428571   \n13                                 47.826087   \n14                                 72.222222   \n15                                 83.333333   \n16                                 22.222222   \n\n                                           All Crimes  \n0   drug, terrorism, illegal possession, murder, k...  \n1       drug, smuggling, wanted, robbery, terrorism,   \n2                           drug, terrorism, murder,   \n3   drug, wanted, murder, kidnapping, rape, terror...  \n4   drug, murder, terrorism, wanted, illegal posse...  \n5        drug, terrorism, murder, wanted, smuggling,   \n6                                              drug,   \n7                                   drug, terrorism,   \n8   drug, murder, kidnapping, wanted, smuggling, r...  \n9   drug, terrorism, wanted, rape, kidnapping, mur...  \n10                          drug, terrorism, murder,   \n11                                      drug, fraud,   \n12  drug, robbery, kidnapping, fraud, smuggling, t...  \n13  drug, fraud, terrorism, murder, wanted, robber...  \n14             drug, smuggling, rape, fraud, murder,   \n15                                  drug, terrorism,   \n16  wanted, terrorism, drug, robbery, murder, fraud,   ",
      "text/html": "<div>\n<style scoped>\n    .dataframe tbody tr th:only-of-type {\n        vertical-align: middle;\n    }\n\n    .dataframe tbody tr th {\n        vertical-align: top;\n    }\n\n    .dataframe thead th {\n        text-align: right;\n    }\n</style>\n<table border=\"1\" class=\"dataframe\">\n  <thead>\n    <tr style=\"text-align: right;\">\n      <th></th>\n      <th>Region Name</th>\n      <th>Most Likely Crime</th>\n      <th>Probability Percent of Most Likely Crime</th>\n      <th>All Crimes</th>\n    </tr>\n  </thead>\n  <tbody>\n    <tr>\n      <th>0</th>\n      <td>Bicol Region (Region V)</td>\n      <td>drug</td>\n      <td>46.666667</td>\n      <td>drug, terrorism, illegal possession, murder, k...</td>\n    </tr>\n    <tr>\n      <th>1</th>\n      <td>Zamboanga Peninsula (Region IX)</td>\n      <td>drug</td>\n      <td>58.333333</td>\n      <td>drug, smuggling, wanted, robbery, terrorism,</td>\n    </tr>\n    <tr>\n      <th>2</th>\n      <td>Cagayan Valley (Region II)</td>\n      <td>drug</td>\n      <td>75.000000</td>\n      <td>drug, terrorism, murder,</td>\n    </tr>\n    <tr>\n      <th>3</th>\n      <td>Central Visayas (Region VII)</td>\n      <td>drug</td>\n      <td>81.395349</td>\n      <td>drug, wanted, murder, kidnapping, rape, terror...</td>\n    </tr>\n    <tr>\n      <th>4</th>\n      <td>Autonomous Region of Muslim Mindanao (ARMM)</td>\n      <td>drug</td>\n      <td>35.294118</td>\n      <td>drug, murder, terrorism, wanted, illegal posse...</td>\n    </tr>\n    <tr>\n      <th>5</th>\n      <td>Western Visayas (Region VI)</td>\n      <td>drug</td>\n      <td>60.000000</td>\n      <td>drug, terrorism, murder, wanted, smuggling,</td>\n    </tr>\n    <tr>\n      <th>6</th>\n      <td>MIMAROPA (Region IV-B)</td>\n      <td>drug</td>\n      <td>100.000000</td>\n      <td>drug,</td>\n    </tr>\n    <tr>\n      <th>7</th>\n      <td>Cordillera Administrative Region (CAR)</td>\n      <td>drug</td>\n      <td>96.153846</td>\n      <td>drug, terrorism,</td>\n    </tr>\n    <tr>\n      <th>8</th>\n      <td>CALABARZON (Region IV-A)</td>\n      <td>drug</td>\n      <td>72.727273</td>\n      <td>drug, murder, kidnapping, wanted, smuggling, r...</td>\n    </tr>\n    <tr>\n      <th>9</th>\n      <td>Eastern Visayas (Region VIII)</td>\n      <td>drug</td>\n      <td>43.478261</td>\n      <td>drug, terrorism, wanted, rape, kidnapping, mur...</td>\n    </tr>\n    <tr>\n      <th>10</th>\n      <td>Davao Region (Region XI)</td>\n      <td>drug</td>\n      <td>70.000000</td>\n      <td>drug, terrorism, murder,</td>\n    </tr>\n    <tr>\n      <th>11</th>\n      <td>SOCCSKSARGEN (Region XII)</td>\n      <td>drug</td>\n      <td>83.333333</td>\n      <td>drug, fraud,</td>\n    </tr>\n    <tr>\n      <th>12</th>\n      <td>Metropolitan Manila</td>\n      <td>drug</td>\n      <td>71.428571</td>\n      <td>drug, robbery, kidnapping, fraud, smuggling, t...</td>\n    </tr>\n    <tr>\n      <th>13</th>\n      <td>Ilocos Region (Region I)</td>\n      <td>drug</td>\n      <td>47.826087</td>\n      <td>drug, fraud, terrorism, murder, wanted, robber...</td>\n    </tr>\n    <tr>\n      <th>14</th>\n      <td>Central Luzon (Region III)</td>\n      <td>drug</td>\n      <td>72.222222</td>\n      <td>drug, smuggling, rape, fraud, murder,</td>\n    </tr>\n    <tr>\n      <th>15</th>\n      <td>Northern Mindanao (Region X)</td>\n      <td>drug</td>\n      <td>83.333333</td>\n      <td>drug, terrorism,</td>\n    </tr>\n    <tr>\n      <th>16</th>\n      <td>Caraga (Region XIII)</td>\n      <td>wanted</td>\n      <td>22.222222</td>\n      <td>wanted, terrorism, drug, robbery, murder, fraud,</td>\n    </tr>\n  </tbody>\n</table>\n</div>"
     },
     "execution_count": 95,
     "metadata": {},
     "output_type": "execute_result"
    }
   ],
   "source": [
    "regio = pred_df.region.unique()\n",
    "region_list = []\n",
    "type_list = []\n",
    "percent_list = []\n",
    "others_list = []\n",
    "for reg in regio:\n",
    "    temp  = pred_df[pred_df.region == reg].type.value_counts()\n",
    "    region_list.append(reg)\n",
    "    type_list.append(temp.index[0])\n",
    "    percent_list.append(temp[0] / temp.sum() * 100)\n",
    "    word = \"\"\n",
    "    for item in temp.index:\n",
    "        word += str(item) + \", \"\n",
    "    others_list.append(word)\n",
    "\n",
    "chloro_df = pd.DataFrame({'Region Name':region_list ,'Most Likely Crime':type_list, 'Probability Percent of Most Likely Crime':percent_list, 'All Crimes':others_list})\n",
    "chloro_df"
   ],
   "metadata": {
    "collapsed": false,
    "pycharm": {
     "name": "#%%\n"
    }
   }
  },
  {
   "cell_type": "code",
   "execution_count": 96,
   "outputs": [],
   "source": [
    "import plotly.express as px\n",
    "\n",
    "fig = px.choropleth_mapbox(\n",
    "    chloro_df,\n",
    "    locations=\"Region Name\",\n",
    "    geojson=regions,\n",
    "    color=\"Probability Percent of Most Likely Crime\",\n",
    "    featureidkey=\"properties.REGION\",\n",
    "    hover_name=\"Region Name\",\n",
    "    hover_data=[\"All Crimes\", \"Most Likely Crime\"],\n",
    "    mapbox_style=\"carto-positron\",\n",
    "    center={\"lat\": 12, \"lon\": 122},\n",
    "    zoom=5,\n",
    ")\n",
    "\n",
    "fig.write_html(\"file.html\")"
   ],
   "metadata": {
    "collapsed": false,
    "pycharm": {
     "name": "#%%\n"
    }
   }
  },
  {
   "cell_type": "code",
   "execution_count": null,
   "outputs": [],
   "source": [],
   "metadata": {
    "collapsed": false,
    "pycharm": {
     "name": "#%%\n"
    }
   }
  }
 ]
}