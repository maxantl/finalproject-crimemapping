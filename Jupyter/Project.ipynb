{
 "nbformat": 4,
 "nbformat_minor": 0,
 "metadata": {
  "colab": {
   "name": "Project",
   "provenance": [],
   "collapsed_sections": []
  },
  "kernelspec": {
   "name": "python3",
   "display_name": "Python 3"
  },
  "language_info": {
   "name": "python"
  }
 },
 "cells": [
  {
   "cell_type": "code",
   "source": [
    "import pandas as pd\n",
    "import numpy as np\n",
    "from nltk.corpus import stopwords\n",
    "import warnings\n",
    "import json\n",
    "warnings.filterwarnings('ignore')"
   ],
   "metadata": {
    "id": "fjEW-3urxi-g",
    "pycharm": {
     "name": "#%%\n"
    }
   },
   "execution_count": 46,
   "outputs": []
  },
  {
   "cell_type": "code",
   "execution_count": 24,
   "outputs": [
    {
     "data": {
      "text/plain": "                                             created_at  \\\n0                              2022-07-13T14:29:17.000Z   \n1                              2022-07-13T12:10:52.000Z   \n2                              2022-07-13T11:20:38.000Z   \n3                              2022-07-12T13:18:14.000Z   \n4                              2022-07-12T11:53:06.000Z   \n...                                                 ...   \n1485  2021-09-02 12:12:11 Malay Peninsula Standard Time   \n1486  2021-09-01 14:35:45 Malay Peninsula Standard Time   \n1487  2021-09-01 12:41:19 Malay Peninsula Standard Time   \n1488  2021-09-01 12:09:47 Malay Peninsula Standard Time   \n1489  2021-09-01 11:12:43 Malay Peninsula Standard Time   \n\n                                                  tweet  \n0     PNP OIC PLTGEN Danao Jr. confirmed that two me...  \n1     This anti-illegal drug operation also led to t...  \n2     A regional level most wanted person for illega...  \n3     Three former members of a CTG in Masbate are n...  \n4     A 37-year-old drug suspect was busted in an an...  \n...                                                 ...  \n1485  ELEAZAR: 92% OF PNP PERSONNEL RECEIVED VACCINE...  \n1486  ELEAZAR: POLICEMEN CHARGED WITH MURDER BY DOJ ...  \n1487  POLICE CONDUCT MOBILE LIBRARY FOR CHILDREN IN ...  \n1488  IAS RECOMMENDATION ON POLICEMAN INVOLVED IN FA...  \n1489  ELEAZAR ORDERS PROBE ON MOTORCYCLE STUNTS IN Z...  \n\n[1490 rows x 2 columns]",
      "text/html": "<div>\n<style scoped>\n    .dataframe tbody tr th:only-of-type {\n        vertical-align: middle;\n    }\n\n    .dataframe tbody tr th {\n        vertical-align: top;\n    }\n\n    .dataframe thead th {\n        text-align: right;\n    }\n</style>\n<table border=\"1\" class=\"dataframe\">\n  <thead>\n    <tr style=\"text-align: right;\">\n      <th></th>\n      <th>created_at</th>\n      <th>tweet</th>\n    </tr>\n  </thead>\n  <tbody>\n    <tr>\n      <th>0</th>\n      <td>2022-07-13T14:29:17.000Z</td>\n      <td>PNP OIC PLTGEN Danao Jr. confirmed that two me...</td>\n    </tr>\n    <tr>\n      <th>1</th>\n      <td>2022-07-13T12:10:52.000Z</td>\n      <td>This anti-illegal drug operation also led to t...</td>\n    </tr>\n    <tr>\n      <th>2</th>\n      <td>2022-07-13T11:20:38.000Z</td>\n      <td>A regional level most wanted person for illega...</td>\n    </tr>\n    <tr>\n      <th>3</th>\n      <td>2022-07-12T13:18:14.000Z</td>\n      <td>Three former members of a CTG in Masbate are n...</td>\n    </tr>\n    <tr>\n      <th>4</th>\n      <td>2022-07-12T11:53:06.000Z</td>\n      <td>A 37-year-old drug suspect was busted in an an...</td>\n    </tr>\n    <tr>\n      <th>...</th>\n      <td>...</td>\n      <td>...</td>\n    </tr>\n    <tr>\n      <th>1485</th>\n      <td>2021-09-02 12:12:11 Malay Peninsula Standard Time</td>\n      <td>ELEAZAR: 92% OF PNP PERSONNEL RECEIVED VACCINE...</td>\n    </tr>\n    <tr>\n      <th>1486</th>\n      <td>2021-09-01 14:35:45 Malay Peninsula Standard Time</td>\n      <td>ELEAZAR: POLICEMEN CHARGED WITH MURDER BY DOJ ...</td>\n    </tr>\n    <tr>\n      <th>1487</th>\n      <td>2021-09-01 12:41:19 Malay Peninsula Standard Time</td>\n      <td>POLICE CONDUCT MOBILE LIBRARY FOR CHILDREN IN ...</td>\n    </tr>\n    <tr>\n      <th>1488</th>\n      <td>2021-09-01 12:09:47 Malay Peninsula Standard Time</td>\n      <td>IAS RECOMMENDATION ON POLICEMAN INVOLVED IN FA...</td>\n    </tr>\n    <tr>\n      <th>1489</th>\n      <td>2021-09-01 11:12:43 Malay Peninsula Standard Time</td>\n      <td>ELEAZAR ORDERS PROBE ON MOTORCYCLE STUNTS IN Z...</td>\n    </tr>\n  </tbody>\n</table>\n<p>1490 rows × 2 columns</p>\n</div>"
     },
     "execution_count": 24,
     "metadata": {},
     "output_type": "execute_result"
    }
   ],
   "source": [
    "tweet_df = pd.read_csv('Datasets/data.csv',encoding=\"ISO-8859-1\")\n",
    "t_df = pd.read_csv('Datasets/data1.csv',encoding=\"ISO-8859-1\")\n",
    "tweet_df.drop(tweet_df.columns.difference(['created_at','full_text']),axis=1, inplace=True)\n",
    "t_df.drop(t_df.columns.difference(['created_at','tweet']),axis=1, inplace=True)\n",
    "tweet_df = tweet_df.rename(columns={'full_text': 'tweet'})\n",
    "frames=[tweet_df, t_df]\n",
    "final_df = pd.concat(frames, ignore_index=True)\n",
    "final_df"
   ],
   "metadata": {
    "collapsed": false,
    "pycharm": {
     "name": "#%%\n"
    }
   }
  },
  {
   "cell_type": "code",
   "execution_count": 65,
   "outputs": [
    {
     "data": {
      "text/plain": "0       PNP OIC PLTGEN Danao Jr. confirmed that two me...\n1       This anti-illegal drug operation also led to t...\n2       A regional level most wanted person for illega...\n3       Three former members of a CTG in Masbate are n...\n4       A 37-year-old drug suspect was busted in an an...\n                              ...                        \n6506    DepEd strives to enhance reading skills of stu...\n6507    OVP taking ISO certification as challenge to f...\n6508    The shooting stemmed from the heated argument ...\n6509    AFP engineers clear 30% of Marawi areas from e...\n6510    10 US citizens, 2 locals killed in Costa Rica ...\nName: tweet, Length: 16763, dtype: object"
     },
     "execution_count": 65,
     "metadata": {},
     "output_type": "execute_result"
    }
   ],
   "source": [
    "datasets = []\n",
    "datasets.append(pd.read_csv('Datasets/combine/data.csv',encoding=\"ISO-8859-1\").tweet)\n",
    "datasets.append(pd.read_csv('Datasets/combine/data1.csv',encoding=\"ISO-8859-1\").tweet)\n",
    "datasets.append(pd.read_csv('Datasets/combine/data2.csv',encoding=\"ISO-8859-1\").tweet)\n",
    "datasets.append(pd.read_csv('Datasets/combine/data3.csv',encoding=\"ISO-8859-1\").tweet)\n",
    "datasets.append(pd.read_csv('Datasets/combine/data4.csv',encoding=\"ISO-8859-1\").tweet)\n",
    "datasets.append(pd.read_csv('Datasets/combine/data5.csv',encoding=\"ISO-8859-1\").tweet)\n",
    "datasets.append(pd.read_csv('Datasets/combine/data6.csv',encoding=\"ISO-8859-1\").tweet)\n",
    "datasets.append(pd.read_csv('Datasets/combine/data7.csv',encoding=\"ISO-8859-1\").tweet)\n",
    "final_df = pd.concat([dataset for dataset in datasets], axis=0)\n",
    "final_df.to_csv(\"data16K.csv\")\n",
    "final_df"
   ],
   "metadata": {
    "collapsed": false,
    "pycharm": {
     "name": "#%%\n"
    }
   }
  },
  {
   "cell_type": "code",
   "execution_count": 70,
   "outputs": [],
   "source": [
    "#final_df = pd.read_csv('Datasets/final.csv',encoding=\"ISO-8859-1\")\n",
    "tweets_to_keep = ['murder','assassinate','massacre','massacred','drug',\n",
    "                  'shabu','drugs','cppnpa','ctg','terrorist','murdered',\n",
    "                  'terrorism','homicide','regicide','butcher','resisted',\n",
    "                  'resistance','smuggling','smuggle','smuggled','theft',\n",
    "                  'robbery','rape','carnapping','assault','marijuana',\n",
    "                  'private armed group','buy-bust','kidnap','kidnapping',\n",
    "                  'battery','sexual assault','molest','molestation',\n",
    "                  'defilement','deflowering','hijack','hijacking',\n",
    "                  'abduction','mugging','steal','stealing','thieving',\n",
    "                  'robbing','shoplift','shoplifting','holdup','mugging',\n",
    "                  'contraband','export','arrest','arrested','busted','fraud',\n",
    "                  'fraudulent','scam','counterfeit','forgery']\n",
    "\n",
    "final_df = final_df.drop_duplicates()\n",
    "final_df = final_df.reset_index()"
   ],
   "metadata": {
    "collapsed": false,
    "pycharm": {
     "name": "#%%\n"
    }
   }
  },
  {
   "cell_type": "code",
   "source": [
    "import re\n",
    "from nltk.tokenize import word_tokenize\n",
    "tagalog_stops = pd.read_csv(\"Datasets/tagalog_stopwords.csv\").a.to_list()\n",
    "stop_words = stopwords.words('english') + tagalog_stops\n",
    "def clean_tweets(text):\n",
    "    text = text.lower()\n",
    "    text = re.sub(r'RT @[\\w]*','',str(text))\n",
    "    text = re.sub(r'@[\\w]*','',str(text))\n",
    "    text = re.sub(r'#([a-zA-Z0-9_]{1,50})','',str(text))\n",
    "    text = re.sub(r'https?://[A-Za-z0-9./]*','',str(text))\n",
    "    text = re.sub(r'\\n','',str(text))\n",
    "    text = re.sub(r'[^\\x00-\\x7F\\x80-\\xFF\\u0100-\\u017F\\u0180-\\u024F\\u1E00-\\u1EFF]', u'', str(text))\n",
    "    text = re.sub(r'[^\\x00-\\x7f]', '', str(text))\n",
    "    text = re.sub(r'[^\\w\\s]', '', str(text))\n",
    "    text_tokens = word_tokenize(text)\n",
    "    filtered_text = [w for w in text_tokens if not w in stop_words]\n",
    "    return \" \".join(filtered_text)\n",
    "final_df['tweet'] = final_df['tweet'].apply(lambda x: clean_tweets(x))\n",
    "final_df"
   ],
   "metadata": {
    "id": "deg73Avz1mkw",
    "pycharm": {
     "name": "#%%\n"
    }
   },
   "execution_count": 72,
   "outputs": [
    {
     "data": {
      "text/plain": "       index                                              tweet\n0          0  pnp oic pltgen danao jr confirmed two members ...\n1          1  antiillegal drug operation also led seizure 25...\n2          2  regional level wanted person illegal drugs nab...\n3          3  three former members ctg masbate reintegrated ...\n4          4  37yearold drug suspect busted antiillegal drug...\n...      ...                                                ...\n15326   6506      deped strives enhance reading skills students\n15327   6507  ovp taking iso certification challenge improve...\n15328   6508  shooting stemmed heated argument isagani anche...\n15329   6509     afp engineers clear 30 marawi areas explosives\n15330   6510  10 us citizens 2 locals killed costa rica plan...\n\n[15331 rows x 2 columns]",
      "text/html": "<div>\n<style scoped>\n    .dataframe tbody tr th:only-of-type {\n        vertical-align: middle;\n    }\n\n    .dataframe tbody tr th {\n        vertical-align: top;\n    }\n\n    .dataframe thead th {\n        text-align: right;\n    }\n</style>\n<table border=\"1\" class=\"dataframe\">\n  <thead>\n    <tr style=\"text-align: right;\">\n      <th></th>\n      <th>index</th>\n      <th>tweet</th>\n    </tr>\n  </thead>\n  <tbody>\n    <tr>\n      <th>0</th>\n      <td>0</td>\n      <td>pnp oic pltgen danao jr confirmed two members ...</td>\n    </tr>\n    <tr>\n      <th>1</th>\n      <td>1</td>\n      <td>antiillegal drug operation also led seizure 25...</td>\n    </tr>\n    <tr>\n      <th>2</th>\n      <td>2</td>\n      <td>regional level wanted person illegal drugs nab...</td>\n    </tr>\n    <tr>\n      <th>3</th>\n      <td>3</td>\n      <td>three former members ctg masbate reintegrated ...</td>\n    </tr>\n    <tr>\n      <th>4</th>\n      <td>4</td>\n      <td>37yearold drug suspect busted antiillegal drug...</td>\n    </tr>\n    <tr>\n      <th>...</th>\n      <td>...</td>\n      <td>...</td>\n    </tr>\n    <tr>\n      <th>15326</th>\n      <td>6506</td>\n      <td>deped strives enhance reading skills students</td>\n    </tr>\n    <tr>\n      <th>15327</th>\n      <td>6507</td>\n      <td>ovp taking iso certification challenge improve...</td>\n    </tr>\n    <tr>\n      <th>15328</th>\n      <td>6508</td>\n      <td>shooting stemmed heated argument isagani anche...</td>\n    </tr>\n    <tr>\n      <th>15329</th>\n      <td>6509</td>\n      <td>afp engineers clear 30 marawi areas explosives</td>\n    </tr>\n    <tr>\n      <th>15330</th>\n      <td>6510</td>\n      <td>10 us citizens 2 locals killed costa rica plan...</td>\n    </tr>\n  </tbody>\n</table>\n<p>15331 rows × 2 columns</p>\n</div>"
     },
     "execution_count": 72,
     "metadata": {},
     "output_type": "execute_result"
    }
   ]
  },
  {
   "cell_type": "code",
   "execution_count": 73,
   "outputs": [],
   "source": [
    "json_city = json.load(open(\"Datasets/cities.geojson\", \"r\"))\n",
    "id_map = {}\n",
    "city_map = {}\n",
    "province_map = {}\n",
    "region_map = {}\n",
    "index = 0\n",
    "for feature in json_city[\"features\"]:\n",
    "    #feature[\"id\"] = feature[\"properties\"][\"ID_2\"]\n",
    "    feature[\"id\"] = index\n",
    "    if feature[\"geometry\"] != None:\n",
    "        id_map[feature[\"properties\"][\"NAME_1\"].lower() + \" \" + feature[\"properties\"][\"NAME_2\"].lower()] = feature[\"id\"]\n",
    "        words = feature[\"properties\"][\"NAME_2\"].lower().split()\n",
    "        for w in words:\n",
    "            city_map[w] = feature[\"id\"]\n",
    "        words = feature[\"properties\"][\"NAME_1\"].lower().split()\n",
    "        for w in words:\n",
    "            province_map[w] = feature[\"id\"]\n",
    "        region_map[feature[\"properties\"][\"REGION\"].lower().split(\"(\")[0].strip()] = feature[\"id\"]\n",
    "    index += 1"
   ],
   "metadata": {
    "collapsed": false,
    "pycharm": {
     "name": "#%%\n"
    }
   }
  },
  {
   "cell_type": "code",
   "execution_count": 74,
   "outputs": [
    {
     "data": {
      "text/plain": "                                                   tweet  \\\n0      pnp oic pltgen danao jr confirmed two members ...   \n3      three former members ctg masbate reintegrated ...   \n4      37yearold drug suspect busted antiillegal drug...   \n7      police arrested monday member communist terror...   \n8      joint elements tampakan mps piu 1st pmfc scppo...   \n...                                                  ...   \n15312              movenpick hotel soon rise quezon city   \n15315                           nfl del rio pagano fired   \n15320               north korea may join winter olympics   \n15322                       thai companies invest baguio   \n15329     afp engineers clear 30 marawi areas explosives   \n\n                              coords         loc_name  \\\n0                 124.386787/12.0354   danao sorsogon   \n3                123.931534/11.18135  masbate masbate   \n4                 123.642082/7.73305             san    \n7                122.032257/17.68758  cagayan cagayan   \n8                 125.406998/5.46368        tampakan    \n...                              ...              ...   \n15312            122.386963/14.07083    quezon quezon   \n15315   123.637917/7.104139999999999          del del   \n15320             125.117737/6.86882            north   \n15322  120.819122/15.370180000000001          baguio    \n15329    124.52626/7.011089999999999          marawi    \n\n                                       region_name  \n0                          Bicol Region (Region V)  \n3                          Bicol Region (Region V)  \n4                  Zamboanga Peninsula (Region IX)  \n7                       Cagayan Valley (Region II)  \n8                        SOCCSKSARGEN (Region XII)  \n...                                            ...  \n15312                     CALABARZON (Region IV-A)  \n15315              Zamboanga Peninsula (Region IX)  \n15320                    SOCCSKSARGEN (Region XII)  \n15322       Cordillera Administrative Region (CAR)  \n15329  Autonomous Region of Muslim Mindanao (ARMM)  \n\n[4363 rows x 4 columns]",
      "text/html": "<div>\n<style scoped>\n    .dataframe tbody tr th:only-of-type {\n        vertical-align: middle;\n    }\n\n    .dataframe tbody tr th {\n        vertical-align: top;\n    }\n\n    .dataframe thead th {\n        text-align: right;\n    }\n</style>\n<table border=\"1\" class=\"dataframe\">\n  <thead>\n    <tr style=\"text-align: right;\">\n      <th></th>\n      <th>tweet</th>\n      <th>coords</th>\n      <th>loc_name</th>\n      <th>region_name</th>\n    </tr>\n  </thead>\n  <tbody>\n    <tr>\n      <th>0</th>\n      <td>pnp oic pltgen danao jr confirmed two members ...</td>\n      <td>124.386787/12.0354</td>\n      <td>danao sorsogon</td>\n      <td>Bicol Region (Region V)</td>\n    </tr>\n    <tr>\n      <th>3</th>\n      <td>three former members ctg masbate reintegrated ...</td>\n      <td>123.931534/11.18135</td>\n      <td>masbate masbate</td>\n      <td>Bicol Region (Region V)</td>\n    </tr>\n    <tr>\n      <th>4</th>\n      <td>37yearold drug suspect busted antiillegal drug...</td>\n      <td>123.642082/7.73305</td>\n      <td>san</td>\n      <td>Zamboanga Peninsula (Region IX)</td>\n    </tr>\n    <tr>\n      <th>7</th>\n      <td>police arrested monday member communist terror...</td>\n      <td>122.032257/17.68758</td>\n      <td>cagayan cagayan</td>\n      <td>Cagayan Valley (Region II)</td>\n    </tr>\n    <tr>\n      <th>8</th>\n      <td>joint elements tampakan mps piu 1st pmfc scppo...</td>\n      <td>125.406998/5.46368</td>\n      <td>tampakan</td>\n      <td>SOCCSKSARGEN (Region XII)</td>\n    </tr>\n    <tr>\n      <th>...</th>\n      <td>...</td>\n      <td>...</td>\n      <td>...</td>\n      <td>...</td>\n    </tr>\n    <tr>\n      <th>15312</th>\n      <td>movenpick hotel soon rise quezon city</td>\n      <td>122.386963/14.07083</td>\n      <td>quezon quezon</td>\n      <td>CALABARZON (Region IV-A)</td>\n    </tr>\n    <tr>\n      <th>15315</th>\n      <td>nfl del rio pagano fired</td>\n      <td>123.637917/7.104139999999999</td>\n      <td>del del</td>\n      <td>Zamboanga Peninsula (Region IX)</td>\n    </tr>\n    <tr>\n      <th>15320</th>\n      <td>north korea may join winter olympics</td>\n      <td>125.117737/6.86882</td>\n      <td>north</td>\n      <td>SOCCSKSARGEN (Region XII)</td>\n    </tr>\n    <tr>\n      <th>15322</th>\n      <td>thai companies invest baguio</td>\n      <td>120.819122/15.370180000000001</td>\n      <td>baguio</td>\n      <td>Cordillera Administrative Region (CAR)</td>\n    </tr>\n    <tr>\n      <th>15329</th>\n      <td>afp engineers clear 30 marawi areas explosives</td>\n      <td>124.52626/7.011089999999999</td>\n      <td>marawi</td>\n      <td>Autonomous Region of Muslim Mindanao (ARMM)</td>\n    </tr>\n  </tbody>\n</table>\n<p>4363 rows × 4 columns</p>\n</div>"
     },
     "execution_count": 74,
     "metadata": {},
     "output_type": "execute_result"
    }
   ],
   "source": [
    "from nltk import ngrams\n",
    "final_df['coords'] = np.NaN\n",
    "#no_coords = final_df[['tweet','coords','type']]\n",
    "no_coords = final_df[['tweet','coords']]\n",
    "\n",
    "def locate_tweet(text):\n",
    "    found = False\n",
    "    n_gram = 1\n",
    "    while not found:\n",
    "        # spliting the sentence\n",
    "        words = ngrams(text.split(), n_gram)\n",
    "        result = \"\"\n",
    "        text_tokens = word_tokenize(text)\n",
    "        city = \"\"\n",
    "        province = \"\"\n",
    "        init_loc = \"\"\n",
    "        for w in words:\n",
    "            w = re.sub(r'[^a-zA-Z]', '', str(w))\n",
    "            if city_map.__contains__(w) and city == \"\":\n",
    "                city = w\n",
    "                init_loc = w + \" \" + init_loc\n",
    "            if province_map.__contains__(w) and province == \"\":\n",
    "                province = w\n",
    "                init_loc = init_loc  + w\n",
    "            if city != \"\" and province != \"\":\n",
    "                init_loc.strip()\n",
    "                break;\n",
    "        index_loc = -1\n",
    "        if id_map.__contains__(init_loc):\n",
    "            index_loc = id_map[init_loc]\n",
    "        elif province != \"\":\n",
    "            index_loc = province_map[province]\n",
    "        elif city != \"\":\n",
    "            index_loc = city_map[city]\n",
    "        else:\n",
    "            if n_gram == 3:\n",
    "                return np.NaN\n",
    "            n_gram += 1\n",
    "        if index_loc == -1 and n_gram == 3:\n",
    "            return np.NaN\n",
    "        sz = len(json_city[\"features\"][int(index_loc)][\"geometry\"][\"coordinates\"])\n",
    "        sz2 = json_city[\"features\"][int(index_loc)][\"geometry\"][\"coordinates\"][np.random.randint(sz)]\n",
    "        loc = sz2[np.random.randint(len(sz2))]\n",
    "        region = json_city[\"features\"][int(index_loc)][\"properties\"][\"REGION\"]\n",
    "        location = re.findall('\\\\d+.\\\\d+', str(loc))\n",
    "        if loc is not None:\n",
    "            found = True\n",
    "    return str(float(location[1])+-np.random.randint(2))+\"/\"+str(float(location[0])+0.25)+\":\"+init_loc+\":\"+region\n",
    "\n",
    "no_coords['coords'] = no_coords['tweet'].apply(locate_tweet)\n",
    "\n",
    "regions = json.load(open(\"Datasets/Regions.json\", \"r\"))\n",
    "\n",
    "# Add Names\n",
    "def add_location_name(text):\n",
    "    return text.split(\":\")[1]\n",
    "def add_region(text):\n",
    "    return text.split(\":\")[2]\n",
    "\n",
    "no_coords['loc_name'] = no_coords['coords'].apply(add_location_name)\n",
    "no_coords['region_name'] = no_coords['coords'].apply(add_region)\n",
    "no_coords = no_coords.loc[no_coords['loc_name'] != \"\"]\n",
    "# Preprocess\n",
    "def preprocess_coords(coords):\n",
    "    numbers = re.findall('\\\\d+', coords)\n",
    "    return numbers[2]+\".\"+numbers[3]+\"/\"+numbers[0]+\".\"+numbers[1]\n",
    "\n",
    "no_coords['coords'] = no_coords['coords'].apply(preprocess_coords)\n",
    "\n",
    "no_coords"
   ],
   "metadata": {
    "collapsed": false,
    "pycharm": {
     "name": "#%%\n"
    }
   }
  },
  {
   "cell_type": "markdown",
   "source": [
    "Text Classification"
   ],
   "metadata": {
    "collapsed": false,
    "pycharm": {
     "name": "#%% md\n"
    }
   }
  },
  {
   "cell_type": "code",
   "execution_count": 75,
   "outputs": [
    {
     "data": {
      "text/plain": "                                                   tweet               coords  \\\n0      pnp oic pltgen danao jr confirmed two members ...   124.386787/12.0354   \n3      three former members ctg masbate reintegrated ...  123.931534/11.18135   \n4      37yearold drug suspect busted antiillegal drug...   123.642082/7.73305   \n7      police arrested monday member communist terror...  122.032257/17.68758   \n11     municipallevel wanted person bohol finally arr...   124.433243/8.60917   \n...                                                  ...                  ...   \n14693  enrile martial law extension deter terrorism m...  121.99823/16.606159   \n14868  former customs commissioner faeldon released d...  121.477913/14.55693   \n14969        bulacan five killed 95 nabbed antidrugs ops  121.157318/13.80879   \n15227  look two different computerized facial composi...   123.107323/6.36558   \n15233  pasay police says already leads identity one f...    121.248253/13.535   \n\n              loc_name                      region_name                  type  \n0       danao sorsogon          Bicol Region (Region V)             terrorism  \n3      masbate masbate          Bicol Region (Region V)             terrorism  \n4                 san   Zamboanga Peninsula (Region IX)                  drug  \n7      cagayan cagayan       Cagayan Valley (Region II)             terrorism  \n11               bohol     Central Visayas (Region VII)                wanted  \n...                ...                              ...                   ...  \n14693          enrile        Cagayan Valley (Region II)             terrorism  \n14868      rizal rizal         CALABARZON (Region IV-A)  wrongful restraining  \n14969  bulacan bulacan       Central Luzon (Region III)                murder  \n15227         mabuhay   Zamboanga Peninsula (Region IX)               robbery  \n15233           pasay               Metropolitan Manila               robbery  \n\n[612 rows x 5 columns]",
      "text/html": "<div>\n<style scoped>\n    .dataframe tbody tr th:only-of-type {\n        vertical-align: middle;\n    }\n\n    .dataframe tbody tr th {\n        vertical-align: top;\n    }\n\n    .dataframe thead th {\n        text-align: right;\n    }\n</style>\n<table border=\"1\" class=\"dataframe\">\n  <thead>\n    <tr style=\"text-align: right;\">\n      <th></th>\n      <th>tweet</th>\n      <th>coords</th>\n      <th>loc_name</th>\n      <th>region_name</th>\n      <th>type</th>\n    </tr>\n  </thead>\n  <tbody>\n    <tr>\n      <th>0</th>\n      <td>pnp oic pltgen danao jr confirmed two members ...</td>\n      <td>124.386787/12.0354</td>\n      <td>danao sorsogon</td>\n      <td>Bicol Region (Region V)</td>\n      <td>terrorism</td>\n    </tr>\n    <tr>\n      <th>3</th>\n      <td>three former members ctg masbate reintegrated ...</td>\n      <td>123.931534/11.18135</td>\n      <td>masbate masbate</td>\n      <td>Bicol Region (Region V)</td>\n      <td>terrorism</td>\n    </tr>\n    <tr>\n      <th>4</th>\n      <td>37yearold drug suspect busted antiillegal drug...</td>\n      <td>123.642082/7.73305</td>\n      <td>san</td>\n      <td>Zamboanga Peninsula (Region IX)</td>\n      <td>drug</td>\n    </tr>\n    <tr>\n      <th>7</th>\n      <td>police arrested monday member communist terror...</td>\n      <td>122.032257/17.68758</td>\n      <td>cagayan cagayan</td>\n      <td>Cagayan Valley (Region II)</td>\n      <td>terrorism</td>\n    </tr>\n    <tr>\n      <th>11</th>\n      <td>municipallevel wanted person bohol finally arr...</td>\n      <td>124.433243/8.60917</td>\n      <td>bohol</td>\n      <td>Central Visayas (Region VII)</td>\n      <td>wanted</td>\n    </tr>\n    <tr>\n      <th>...</th>\n      <td>...</td>\n      <td>...</td>\n      <td>...</td>\n      <td>...</td>\n      <td>...</td>\n    </tr>\n    <tr>\n      <th>14693</th>\n      <td>enrile martial law extension deter terrorism m...</td>\n      <td>121.99823/16.606159</td>\n      <td>enrile</td>\n      <td>Cagayan Valley (Region II)</td>\n      <td>terrorism</td>\n    </tr>\n    <tr>\n      <th>14868</th>\n      <td>former customs commissioner faeldon released d...</td>\n      <td>121.477913/14.55693</td>\n      <td>rizal rizal</td>\n      <td>CALABARZON (Region IV-A)</td>\n      <td>wrongful restraining</td>\n    </tr>\n    <tr>\n      <th>14969</th>\n      <td>bulacan five killed 95 nabbed antidrugs ops</td>\n      <td>121.157318/13.80879</td>\n      <td>bulacan bulacan</td>\n      <td>Central Luzon (Region III)</td>\n      <td>murder</td>\n    </tr>\n    <tr>\n      <th>15227</th>\n      <td>look two different computerized facial composi...</td>\n      <td>123.107323/6.36558</td>\n      <td>mabuhay</td>\n      <td>Zamboanga Peninsula (Region IX)</td>\n      <td>robbery</td>\n    </tr>\n    <tr>\n      <th>15233</th>\n      <td>pasay police says already leads identity one f...</td>\n      <td>121.248253/13.535</td>\n      <td>pasay</td>\n      <td>Metropolitan Manila</td>\n      <td>robbery</td>\n    </tr>\n  </tbody>\n</table>\n<p>612 rows × 5 columns</p>\n</div>"
     },
     "execution_count": 75,
     "metadata": {},
     "output_type": "execute_result"
    }
   ],
   "source": [
    "word_map = {\n",
    "    'murder': ['murder','assassinate','massacre','homicide','regicide','butcher','robberyslay', 'killed'],\n",
    "    'physical injury': ['assault','battery','mugging','manhandling'],\n",
    "    'kidnapping': ['kidnap','kidnapping','abduction','abductors','kidnapped'],\n",
    "    'rape':['rape','sexual assault','molest','molestation','defilement','deflowering','raping','rapist','harrassing','harrass','nude'],\n",
    "    'robbery':['robbery','theft','steal','stealing','thieving','robbing','shoplift','shoplifting','holdup','robberyextortion','extortion', 'extortionist'],\n",
    "    'carnapping':['carnapping','hijacking','hijack'],\n",
    "    'drug':['drug','shabu','drugs','marijuana','buybust','9165', 'pusher', 'dealer'],\n",
    "    'terrorism':['cppnpa','cppnpandf','ctg','terrorist','terrorists','terrorism','private','syndicate','abu sayyaf', 'extremist'],\n",
    "    'obstruction':['resistance','resisted','obstruction'],\n",
    "    'smuggling':['smuggling','smuggle','smuggled','contraband','export','fugitive','fugitives','trafficking','smuggler'],\n",
    "    'fraud':['fraud','fraudulent','scam','forgery','counterfeit','manufacture','scammer','fake','falsification'],\n",
    "    'illegal possession':['possession','ban','10591'],\n",
    "    'wanted':['wanted','manhunt'],\n",
    "    'wrongful restraining': ['illegal detention','detention']\n",
    "}\n",
    "\n",
    "def analysis(tweet):\n",
    "    words = word_tokenize(tweet)\n",
    "    for prefix in word_map:\n",
    "        match_score = 0\n",
    "        for word in words:\n",
    "            if word in word_map[prefix]:\n",
    "                match_score += 1\n",
    "                if match_score > 0:\n",
    "                    return prefix\n",
    "    return \"non\"\n",
    "\n",
    "no_coords['type'] = no_coords['tweet'].apply(analysis)\n",
    "no_coords[no_coords['type'] != 'non']"
   ],
   "metadata": {
    "collapsed": false,
    "pycharm": {
     "name": "#%%\n"
    }
   }
  },
  {
   "cell_type": "markdown",
   "source": [
    "Model Training and Evaluation"
   ],
   "metadata": {
    "collapsed": false,
    "pycharm": {
     "name": "#%% md\n"
    }
   }
  },
  {
   "cell_type": "code",
   "execution_count": 76,
   "outputs": [
    {
     "name": "stdout",
     "output_type": "stream",
     "text": [
      "Train size: 3490\n",
      "Test size: 873\n",
      "\n",
      "Total rows (Unsplit): 4363\n",
      "Total rows (Split): 4363\n"
     ]
    }
   ],
   "source": [
    "from sklearn.model_selection import train_test_split\n",
    "df = no_coords[['tweet', 'type', 'region_name', 'coords']].dropna()\n",
    "X = df.tweet\n",
    "y = df.type\n",
    "\n",
    "X_train, X_test, y_train, y_test = train_test_split(X, y, train_size=0.8)\n",
    "\n",
    "print( \"Train size: \" + str(X_train.shape[0]))\n",
    "print( \"Test size: \" + str(X_test.shape[0]))\n",
    "print(\"\\nTotal rows (Unsplit): \" + str(df.shape[0]))\n",
    "print(\"Total rows (Split): \" + str(X_train.shape[0] + X_test.shape[0]))"
   ],
   "metadata": {
    "collapsed": false,
    "pycharm": {
     "name": "#%%\n"
    }
   }
  },
  {
   "cell_type": "code",
   "execution_count": 77,
   "outputs": [
    {
     "name": "stdout",
     "output_type": "stream",
     "text": [
      "                      precision    recall  f1-score   support\n",
      "\n",
      "                drug       0.88      0.31      0.46        45\n",
      "               fraud       0.00      0.00      0.00         4\n",
      "  illegal possession       0.00      0.00      0.00         3\n",
      "          kidnapping       0.00      0.00      0.00         2\n",
      "              murder       0.00      0.00      0.00        24\n",
      "                 non       0.88      1.00      0.94       749\n",
      "             robbery       0.00      0.00      0.00         7\n",
      "           smuggling       0.00      0.00      0.00         4\n",
      "           terrorism       1.00      0.32      0.49        31\n",
      "              wanted       0.00      0.00      0.00         3\n",
      "wrongful restraining       0.00      0.00      0.00         1\n",
      "\n",
      "            accuracy                           0.89       873\n",
      "           macro avg       0.25      0.15      0.17       873\n",
      "        weighted avg       0.84      0.89      0.85       873\n",
      "\n"
     ]
    },
    {
     "data": {
      "text/plain": "                                                    Text Actual Value  \\\n1248   eleazar assures continuous reforms pnpa read g...          non   \n1353   isabela cop faces dismissal extorting money ar...         drug   \n7142                    pals 2nd a350 jet arrives manila          non   \n1601   visit baguio city police office baguio city be...          non   \n7208   forced evacuation pangasinan 5 bulacan areas s...          non   \n...                                                  ...          ...   \n4235   president duterte arrives papua new guinea fri...          non   \n6117   look san carlos city pangasinan convening cdrr...          non   \n11985  read president duterte calls forces wish see w...          non   \n9840   manila bulletin headline today 06052018 grab c...          non   \n14061                 group fights plan bohol coal plant          non   \n\n      Predicted Value  \n1248              non  \n1353              non  \n7142              non  \n1601              non  \n7208              non  \n...               ...  \n4235              non  \n6117              non  \n11985             non  \n9840              non  \n14061             non  \n\n[873 rows x 3 columns]",
      "text/html": "<div>\n<style scoped>\n    .dataframe tbody tr th:only-of-type {\n        vertical-align: middle;\n    }\n\n    .dataframe tbody tr th {\n        vertical-align: top;\n    }\n\n    .dataframe thead th {\n        text-align: right;\n    }\n</style>\n<table border=\"1\" class=\"dataframe\">\n  <thead>\n    <tr style=\"text-align: right;\">\n      <th></th>\n      <th>Text</th>\n      <th>Actual Value</th>\n      <th>Predicted Value</th>\n    </tr>\n  </thead>\n  <tbody>\n    <tr>\n      <th>1248</th>\n      <td>eleazar assures continuous reforms pnpa read g...</td>\n      <td>non</td>\n      <td>non</td>\n    </tr>\n    <tr>\n      <th>1353</th>\n      <td>isabela cop faces dismissal extorting money ar...</td>\n      <td>drug</td>\n      <td>non</td>\n    </tr>\n    <tr>\n      <th>7142</th>\n      <td>pals 2nd a350 jet arrives manila</td>\n      <td>non</td>\n      <td>non</td>\n    </tr>\n    <tr>\n      <th>1601</th>\n      <td>visit baguio city police office baguio city be...</td>\n      <td>non</td>\n      <td>non</td>\n    </tr>\n    <tr>\n      <th>7208</th>\n      <td>forced evacuation pangasinan 5 bulacan areas s...</td>\n      <td>non</td>\n      <td>non</td>\n    </tr>\n    <tr>\n      <th>...</th>\n      <td>...</td>\n      <td>...</td>\n      <td>...</td>\n    </tr>\n    <tr>\n      <th>4235</th>\n      <td>president duterte arrives papua new guinea fri...</td>\n      <td>non</td>\n      <td>non</td>\n    </tr>\n    <tr>\n      <th>6117</th>\n      <td>look san carlos city pangasinan convening cdrr...</td>\n      <td>non</td>\n      <td>non</td>\n    </tr>\n    <tr>\n      <th>11985</th>\n      <td>read president duterte calls forces wish see w...</td>\n      <td>non</td>\n      <td>non</td>\n    </tr>\n    <tr>\n      <th>9840</th>\n      <td>manila bulletin headline today 06052018 grab c...</td>\n      <td>non</td>\n      <td>non</td>\n    </tr>\n    <tr>\n      <th>14061</th>\n      <td>group fights plan bohol coal plant</td>\n      <td>non</td>\n      <td>non</td>\n    </tr>\n  </tbody>\n</table>\n<p>873 rows × 3 columns</p>\n</div>"
     },
     "execution_count": 77,
     "metadata": {},
     "output_type": "execute_result"
    }
   ],
   "source": [
    "# NB Classification\n",
    "from sklearn.pipeline import Pipeline\n",
    "from sklearn.feature_extraction.text import TfidfTransformer\n",
    "from sklearn.naive_bayes import MultinomialNB\n",
    "from sklearn.feature_extraction.text import CountVectorizer\n",
    "text_clf = Pipeline([('vect', CountVectorizer()),\n",
    "                     ('tfidf', TfidfTransformer()),\n",
    "                     ('clf', MultinomialNB())])\n",
    "text_clf = text_clf.fit(X_train, y_train)\n",
    "# NB Metrics\n",
    "from sklearn import metrics\n",
    "predicted = text_clf.predict(X_test)\n",
    "print(metrics.classification_report(y_test, predicted))\n",
    "# Show difference\n",
    "pred_y_df=pd.DataFrame({'Text':X_test ,'Actual Value':y_test,'Predicted Value':predicted})\n",
    "#pred_y_df[pred_y_df['Predicted Value'] == 'non']\n",
    "pred_y_df"
   ],
   "metadata": {
    "collapsed": false,
    "pycharm": {
     "name": "#%%\n"
    }
   }
  },
  {
   "cell_type": "code",
   "execution_count": 78,
   "outputs": [
    {
     "name": "stdout",
     "output_type": "stream",
     "text": [
      "                      precision    recall  f1-score   support\n",
      "\n",
      "                drug       0.95      0.82      0.88        45\n",
      "               fraud       0.00      0.00      0.00         4\n",
      "  illegal possession       0.00      0.00      0.00         3\n",
      "          kidnapping       0.00      0.00      0.00         2\n",
      "              murder       1.00      0.54      0.70        24\n",
      "                 non       0.94      1.00      0.97       749\n",
      "             robbery       0.00      0.00      0.00         7\n",
      "           smuggling       0.00      0.00      0.00         4\n",
      "           terrorism       0.96      0.71      0.81        31\n",
      "              wanted       1.00      1.00      1.00         3\n",
      "wrongful restraining       0.00      0.00      0.00         1\n",
      "\n",
      "            accuracy                           0.94       873\n",
      "           macro avg       0.44      0.37      0.40       873\n",
      "        weighted avg       0.92      0.94      0.93       873\n",
      "\n"
     ]
    },
    {
     "data": {
      "text/plain": "                                                    Text Actual Value  \\\n1248   eleazar assures continuous reforms pnpa read g...          non   \n1353   isabela cop faces dismissal extorting money ar...         drug   \n7142                    pals 2nd a350 jet arrives manila          non   \n1601   visit baguio city police office baguio city be...          non   \n7208   forced evacuation pangasinan 5 bulacan areas s...          non   \n...                                                  ...          ...   \n4235   president duterte arrives papua new guinea fri...          non   \n6117   look san carlos city pangasinan convening cdrr...          non   \n11985  read president duterte calls forces wish see w...          non   \n9840   manila bulletin headline today 06052018 grab c...          non   \n14061                 group fights plan bohol coal plant          non   \n\n      Predicted Value  \n1248              non  \n1353             drug  \n7142              non  \n1601              non  \n7208              non  \n...               ...  \n4235              non  \n6117              non  \n11985             non  \n9840              non  \n14061             non  \n\n[873 rows x 3 columns]",
      "text/html": "<div>\n<style scoped>\n    .dataframe tbody tr th:only-of-type {\n        vertical-align: middle;\n    }\n\n    .dataframe tbody tr th {\n        vertical-align: top;\n    }\n\n    .dataframe thead th {\n        text-align: right;\n    }\n</style>\n<table border=\"1\" class=\"dataframe\">\n  <thead>\n    <tr style=\"text-align: right;\">\n      <th></th>\n      <th>Text</th>\n      <th>Actual Value</th>\n      <th>Predicted Value</th>\n    </tr>\n  </thead>\n  <tbody>\n    <tr>\n      <th>1248</th>\n      <td>eleazar assures continuous reforms pnpa read g...</td>\n      <td>non</td>\n      <td>non</td>\n    </tr>\n    <tr>\n      <th>1353</th>\n      <td>isabela cop faces dismissal extorting money ar...</td>\n      <td>drug</td>\n      <td>drug</td>\n    </tr>\n    <tr>\n      <th>7142</th>\n      <td>pals 2nd a350 jet arrives manila</td>\n      <td>non</td>\n      <td>non</td>\n    </tr>\n    <tr>\n      <th>1601</th>\n      <td>visit baguio city police office baguio city be...</td>\n      <td>non</td>\n      <td>non</td>\n    </tr>\n    <tr>\n      <th>7208</th>\n      <td>forced evacuation pangasinan 5 bulacan areas s...</td>\n      <td>non</td>\n      <td>non</td>\n    </tr>\n    <tr>\n      <th>...</th>\n      <td>...</td>\n      <td>...</td>\n      <td>...</td>\n    </tr>\n    <tr>\n      <th>4235</th>\n      <td>president duterte arrives papua new guinea fri...</td>\n      <td>non</td>\n      <td>non</td>\n    </tr>\n    <tr>\n      <th>6117</th>\n      <td>look san carlos city pangasinan convening cdrr...</td>\n      <td>non</td>\n      <td>non</td>\n    </tr>\n    <tr>\n      <th>11985</th>\n      <td>read president duterte calls forces wish see w...</td>\n      <td>non</td>\n      <td>non</td>\n    </tr>\n    <tr>\n      <th>9840</th>\n      <td>manila bulletin headline today 06052018 grab c...</td>\n      <td>non</td>\n      <td>non</td>\n    </tr>\n    <tr>\n      <th>14061</th>\n      <td>group fights plan bohol coal plant</td>\n      <td>non</td>\n      <td>non</td>\n    </tr>\n  </tbody>\n</table>\n<p>873 rows × 3 columns</p>\n</div>"
     },
     "execution_count": 78,
     "metadata": {},
     "output_type": "execute_result"
    }
   ],
   "source": [
    "# SVM Classification\n",
    "from sklearn.linear_model import SGDClassifier\n",
    "import pickle\n",
    "text_clf_svm = Pipeline([('vect', CountVectorizer()),\n",
    "                         ('tfidf', TfidfTransformer()),\n",
    "                         ('clf-svm', SGDClassifier(loss='hinge', penalty='l2',\n",
    "                                                   alpha=1e-3, n_iter_no_change=5, random_state=42))])\n",
    "text_clf_svm = text_clf_svm.fit(X_train, y_train)\n",
    "\n",
    "# SVM Metrics\n",
    "from sklearn import metrics\n",
    "predicted_svm = text_clf_svm.predict(X_test)\n",
    "print(metrics.classification_report(y_test, predicted_svm))\n",
    "# Show difference\n",
    "pred_y_df=pd.DataFrame({'Text':X_test ,'Actual Value':y_test,'Predicted Value':predicted_svm})\n",
    "\n",
    "pkl_filename = \"pickle_model.pkl\"\n",
    "with open(pkl_filename, 'wb') as file:\n",
    "    pickle.dump(text_clf_svm, file)\n",
    "pred_y_df"
   ],
   "metadata": {
    "collapsed": false,
    "pycharm": {
     "name": "#%%\n"
    }
   }
  },
  {
   "cell_type": "code",
   "execution_count": 11,
   "outputs": [
    {
     "name": "stdout",
     "output_type": "stream",
     "text": [
      "              precision    recall  f1-score   support\n",
      "\n",
      "  carnapping       0.00      0.00      0.00         1\n",
      "        drug       0.64      1.00      0.78        41\n",
      "       fraud       0.00      0.00      0.00         3\n",
      "  kidnapping       0.00      0.00      0.00         1\n",
      "      murder       1.00      0.27      0.43        11\n",
      "        rape       0.00      0.00      0.00         1\n",
      "     robbery       0.00      0.00      0.00         2\n",
      "   smuggling       0.00      0.00      0.00         3\n",
      "   terrorism       0.00      0.00      0.00         3\n",
      "      wanted       0.00      0.00      0.00         1\n",
      "\n",
      "    accuracy                           0.66        67\n",
      "   macro avg       0.16      0.13      0.12        67\n",
      "weighted avg       0.56      0.66      0.55        67\n",
      "\n"
     ]
    }
   ],
   "source": [
    "from sklearn.linear_model import LogisticRegression\n",
    "\n",
    "text_clf_log = Pipeline([('vect', CountVectorizer()),\n",
    "                     ('tfidf', TfidfTransformer()),\n",
    "                     ('clf', LogisticRegression())])\n",
    "text_clf_log = text_clf_log.fit(X_train, y_train)\n",
    "# NB Metrics\n",
    "from sklearn import metrics\n",
    "predicted = text_clf_log.predict(X_test)\n",
    "print(metrics.classification_report(y_test, predicted))\n",
    "# Show difference\n",
    "pred_y_df=pd.DataFrame({'Text':X_test ,'Actual Value':y_test,'Predicted Value':predicted})\n"
   ],
   "metadata": {
    "collapsed": false,
    "pycharm": {
     "name": "#%%\n"
    }
   }
  },
  {
   "cell_type": "code",
   "execution_count": 82,
   "outputs": [
    {
     "data": {
      "text/plain": "0        pnp oic pltgen danao jr confirmed two members ...\n1        antiillegal drug operation also led seizure 25...\n2        regional level wanted person illegal drugs nab...\n3        three former members ctg masbate reintegrated ...\n4        37yearold drug suspect busted antiillegal drug...\n                               ...                        \n15326        deped strives enhance reading skills students\n15327    ovp taking iso certification challenge improve...\n15328    shooting stemmed heated argument isagani anche...\n15329       afp engineers clear 30 marawi areas explosives\n15330    10 us citizens 2 locals killed costa rica plan...\nName: tweet, Length: 15331, dtype: object"
     },
     "execution_count": 82,
     "metadata": {},
     "output_type": "execute_result"
    }
   ],
   "source": [
    "final_df.tweet"
   ],
   "metadata": {
    "collapsed": false,
    "pycharm": {
     "name": "#%%\n"
    }
   }
  },
  {
   "cell_type": "code",
   "execution_count": 83,
   "outputs": [
    {
     "data": {
      "text/plain": "                                                   tweet    type\n1      antiillegal drug operation also led seizure 25...    drug\n2      regional level wanted person illegal drugs nab...    drug\n4      37yearold drug suspect busted antiillegal drug...    drug\n10     police busted illegal drug activities female d...    drug\n11     municipallevel wanted person bohol finally arr...  wanted\n...                                                  ...     ...\n14969        bulacan five killed 95 nabbed antidrugs ops  murder\n15000   pnp cordillera 2017 2293 wanted persons arrested  wanted\n15155  backpackers critically ill australia mass drug...    drug\n15276  iranian protesters attack police stations leas...  murder\n15330  10 us citizens 2 locals killed costa rica plan...  murder\n\n[638 rows x 2 columns]",
      "text/html": "<div>\n<style scoped>\n    .dataframe tbody tr th:only-of-type {\n        vertical-align: middle;\n    }\n\n    .dataframe tbody tr th {\n        vertical-align: top;\n    }\n\n    .dataframe thead th {\n        text-align: right;\n    }\n</style>\n<table border=\"1\" class=\"dataframe\">\n  <thead>\n    <tr style=\"text-align: right;\">\n      <th></th>\n      <th>tweet</th>\n      <th>type</th>\n    </tr>\n  </thead>\n  <tbody>\n    <tr>\n      <th>1</th>\n      <td>antiillegal drug operation also led seizure 25...</td>\n      <td>drug</td>\n    </tr>\n    <tr>\n      <th>2</th>\n      <td>regional level wanted person illegal drugs nab...</td>\n      <td>drug</td>\n    </tr>\n    <tr>\n      <th>4</th>\n      <td>37yearold drug suspect busted antiillegal drug...</td>\n      <td>drug</td>\n    </tr>\n    <tr>\n      <th>10</th>\n      <td>police busted illegal drug activities female d...</td>\n      <td>drug</td>\n    </tr>\n    <tr>\n      <th>11</th>\n      <td>municipallevel wanted person bohol finally arr...</td>\n      <td>wanted</td>\n    </tr>\n    <tr>\n      <th>...</th>\n      <td>...</td>\n      <td>...</td>\n    </tr>\n    <tr>\n      <th>14969</th>\n      <td>bulacan five killed 95 nabbed antidrugs ops</td>\n      <td>murder</td>\n    </tr>\n    <tr>\n      <th>15000</th>\n      <td>pnp cordillera 2017 2293 wanted persons arrested</td>\n      <td>wanted</td>\n    </tr>\n    <tr>\n      <th>15155</th>\n      <td>backpackers critically ill australia mass drug...</td>\n      <td>drug</td>\n    </tr>\n    <tr>\n      <th>15276</th>\n      <td>iranian protesters attack police stations leas...</td>\n      <td>murder</td>\n    </tr>\n    <tr>\n      <th>15330</th>\n      <td>10 us citizens 2 locals killed costa rica plan...</td>\n      <td>murder</td>\n    </tr>\n  </tbody>\n</table>\n<p>638 rows × 2 columns</p>\n</div>"
     },
     "execution_count": 83,
     "metadata": {},
     "output_type": "execute_result"
    }
   ],
   "source": [
    "pred_y_df=pd.DataFrame({'tweet':final_df.tweet ,'type':text_clf_svm.predict(final_df.tweet)})\n",
    "pred_y_df[pred_y_df['type'] != 'non']"
   ],
   "metadata": {
    "collapsed": false,
    "pycharm": {
     "name": "#%%\n"
    }
   }
  },
  {
   "cell_type": "markdown",
   "source": [
    "Heat Map"
   ],
   "metadata": {
    "collapsed": false,
    "pycharm": {
     "name": "#%% md\n"
    }
   }
  },
  {
   "cell_type": "code",
   "execution_count": 65,
   "outputs": [
    {
     "data": {
      "text/plain": "                 coords    type\n0    124.499069/8.69807  wanted\n1    121.806137/6.02781  wanted\n2    123.550583/8.46034  wanted\n3    125.003799/7.65322  wanted\n4   125.523331/11.77796  wanted\n5    123.570129/7.85836  wanted\n6    123.511253/7.96449  wanted\n7   120.637497/15.86502  wanted\n8   125.497231/11.90894  wanted\n9   122.320763/13.10026  wanted\n10  124.794487/10.29055  wanted\n11   125.971947/6.99882  wanted\n12  120.577988/15.96585  wanted\n13  122.662216/11.67639  wanted\n14  120.557243/15.84817  wanted\n15   121.525726/5.01862  wanted\n16   123.856239/9.17919  wanted\n17   124.694077/9.62794  wanted\n18  120.558853/15.84632  wanted\n19  123.666298/12.88864  wanted\n20   124.985786/6.09358  wanted",
      "text/html": "<div>\n<style scoped>\n    .dataframe tbody tr th:only-of-type {\n        vertical-align: middle;\n    }\n\n    .dataframe tbody tr th {\n        vertical-align: top;\n    }\n\n    .dataframe thead th {\n        text-align: right;\n    }\n</style>\n<table border=\"1\" class=\"dataframe\">\n  <thead>\n    <tr style=\"text-align: right;\">\n      <th></th>\n      <th>coords</th>\n      <th>type</th>\n    </tr>\n  </thead>\n  <tbody>\n    <tr>\n      <th>0</th>\n      <td>124.499069/8.69807</td>\n      <td>wanted</td>\n    </tr>\n    <tr>\n      <th>1</th>\n      <td>121.806137/6.02781</td>\n      <td>wanted</td>\n    </tr>\n    <tr>\n      <th>2</th>\n      <td>123.550583/8.46034</td>\n      <td>wanted</td>\n    </tr>\n    <tr>\n      <th>3</th>\n      <td>125.003799/7.65322</td>\n      <td>wanted</td>\n    </tr>\n    <tr>\n      <th>4</th>\n      <td>125.523331/11.77796</td>\n      <td>wanted</td>\n    </tr>\n    <tr>\n      <th>5</th>\n      <td>123.570129/7.85836</td>\n      <td>wanted</td>\n    </tr>\n    <tr>\n      <th>6</th>\n      <td>123.511253/7.96449</td>\n      <td>wanted</td>\n    </tr>\n    <tr>\n      <th>7</th>\n      <td>120.637497/15.86502</td>\n      <td>wanted</td>\n    </tr>\n    <tr>\n      <th>8</th>\n      <td>125.497231/11.90894</td>\n      <td>wanted</td>\n    </tr>\n    <tr>\n      <th>9</th>\n      <td>122.320763/13.10026</td>\n      <td>wanted</td>\n    </tr>\n    <tr>\n      <th>10</th>\n      <td>124.794487/10.29055</td>\n      <td>wanted</td>\n    </tr>\n    <tr>\n      <th>11</th>\n      <td>125.971947/6.99882</td>\n      <td>wanted</td>\n    </tr>\n    <tr>\n      <th>12</th>\n      <td>120.577988/15.96585</td>\n      <td>wanted</td>\n    </tr>\n    <tr>\n      <th>13</th>\n      <td>122.662216/11.67639</td>\n      <td>wanted</td>\n    </tr>\n    <tr>\n      <th>14</th>\n      <td>120.557243/15.84817</td>\n      <td>wanted</td>\n    </tr>\n    <tr>\n      <th>15</th>\n      <td>121.525726/5.01862</td>\n      <td>wanted</td>\n    </tr>\n    <tr>\n      <th>16</th>\n      <td>123.856239/9.17919</td>\n      <td>wanted</td>\n    </tr>\n    <tr>\n      <th>17</th>\n      <td>124.694077/9.62794</td>\n      <td>wanted</td>\n    </tr>\n    <tr>\n      <th>18</th>\n      <td>120.558853/15.84632</td>\n      <td>wanted</td>\n    </tr>\n    <tr>\n      <th>19</th>\n      <td>123.666298/12.88864</td>\n      <td>wanted</td>\n    </tr>\n    <tr>\n      <th>20</th>\n      <td>124.985786/6.09358</td>\n      <td>wanted</td>\n    </tr>\n  </tbody>\n</table>\n</div>"
     },
     "execution_count": 65,
     "metadata": {},
     "output_type": "execute_result"
    }
   ],
   "source": [
    "specific_df = df[df['type'] != 'non'].reset_index()[['coords','type']]\n",
    "type = \"wanted\"\n",
    "if type != \"all\":\n",
    "    specific_df = specific_df[specific_df['type'] == type].reset_index()[['coords','type']]\n",
    "specific_df"
   ],
   "metadata": {
    "collapsed": false,
    "pycharm": {
     "name": "#%%\n"
    }
   }
  },
  {
   "cell_type": "code",
   "execution_count": 66,
   "outputs": [],
   "source": [
    "# Heat map test\n",
    "import folium\n",
    "from folium.plugins import HeatMap\n",
    "\n",
    "heat_list = []\n",
    "for _loc in range(specific_df.shape[0]):\n",
    "#for _loc in range(10):\n",
    "    temp = specific_df.coords[_loc].split(\"/\")\n",
    "    heat_list.append([float(temp[1]), float(temp[0]), 1])\n",
    "#heat_list = [[11.33877, 124.552177, 0.8]]\n",
    "\n",
    "mapObj = folium.Map([12, 122], zoom_start=6)\n",
    "gradient={'0.0':'Navy', '0.25':'Blue','0.5':'Green', '0.75':'Yellow','1': 'Red'}\n",
    "#HeatMap(data=heat_list, gradient=gradient, radius=25, blur = 10, min_opacity = 0.25, max_val = 0.0005).add_to(mapObj)\n",
    "HeatMap(heat_list,radius=25, max_zoom=13).add_to(mapObj)\n",
    "mapObj.save(\"output.html\")"
   ],
   "metadata": {
    "collapsed": false,
    "pycharm": {
     "name": "#%%\n"
    }
   }
  },
  {
   "cell_type": "markdown",
   "source": [
    "Plot per region"
   ],
   "metadata": {
    "collapsed": false,
    "pycharm": {
     "name": "#%% md\n"
    }
   }
  },
  {
   "cell_type": "code",
   "execution_count": 14,
   "outputs": [],
   "source": [
    "pred =text_clf_svm.predict(df.tweet)\n",
    "len(pred)\n",
    "pred_df =pd.DataFrame({'tweet':df.tweet ,'type':pred, 'region': df.region_name})\n",
    "pred_df[['type', 'region']].to_csv(\"crimes.csv\")"
   ],
   "metadata": {
    "collapsed": false,
    "pycharm": {
     "name": "#%%\n"
    }
   }
  },
  {
   "cell_type": "code",
   "execution_count": 95,
   "outputs": [
    {
     "data": {
      "text/plain": "                                    Region Name Most Likely Crime  \\\n0                       Bicol Region (Region V)              drug   \n1               Zamboanga Peninsula (Region IX)              drug   \n2                    Cagayan Valley (Region II)              drug   \n3                  Central Visayas (Region VII)              drug   \n4   Autonomous Region of Muslim Mindanao (ARMM)              drug   \n5                   Western Visayas (Region VI)              drug   \n6                        MIMAROPA (Region IV-B)              drug   \n7        Cordillera Administrative Region (CAR)              drug   \n8                      CALABARZON (Region IV-A)              drug   \n9                 Eastern Visayas (Region VIII)              drug   \n10                     Davao Region (Region XI)              drug   \n11                    SOCCSKSARGEN (Region XII)              drug   \n12                          Metropolitan Manila              drug   \n13                     Ilocos Region (Region I)              drug   \n14                   Central Luzon (Region III)              drug   \n15                 Northern Mindanao (Region X)              drug   \n16                         Caraga (Region XIII)            wanted   \n\n    Probability Percent of Most Likely Crime  \\\n0                                  46.666667   \n1                                  58.333333   \n2                                  75.000000   \n3                                  81.395349   \n4                                  35.294118   \n5                                  60.000000   \n6                                 100.000000   \n7                                  96.153846   \n8                                  72.727273   \n9                                  43.478261   \n10                                 70.000000   \n11                                 83.333333   \n12                                 71.428571   \n13                                 47.826087   \n14                                 72.222222   \n15                                 83.333333   \n16                                 22.222222   \n\n                                           All Crimes  \n0   drug, terrorism, illegal possession, murder, k...  \n1       drug, smuggling, wanted, robbery, terrorism,   \n2                           drug, terrorism, murder,   \n3   drug, wanted, murder, kidnapping, rape, terror...  \n4   drug, murder, terrorism, wanted, illegal posse...  \n5        drug, terrorism, murder, wanted, smuggling,   \n6                                              drug,   \n7                                   drug, terrorism,   \n8   drug, murder, kidnapping, wanted, smuggling, r...  \n9   drug, terrorism, wanted, rape, kidnapping, mur...  \n10                          drug, terrorism, murder,   \n11                                      drug, fraud,   \n12  drug, robbery, kidnapping, fraud, smuggling, t...  \n13  drug, fraud, terrorism, murder, wanted, robber...  \n14             drug, smuggling, rape, fraud, murder,   \n15                                  drug, terrorism,   \n16  wanted, terrorism, drug, robbery, murder, fraud,   ",
      "text/html": "<div>\n<style scoped>\n    .dataframe tbody tr th:only-of-type {\n        vertical-align: middle;\n    }\n\n    .dataframe tbody tr th {\n        vertical-align: top;\n    }\n\n    .dataframe thead th {\n        text-align: right;\n    }\n</style>\n<table border=\"1\" class=\"dataframe\">\n  <thead>\n    <tr style=\"text-align: right;\">\n      <th></th>\n      <th>Region Name</th>\n      <th>Most Likely Crime</th>\n      <th>Probability Percent of Most Likely Crime</th>\n      <th>All Crimes</th>\n    </tr>\n  </thead>\n  <tbody>\n    <tr>\n      <th>0</th>\n      <td>Bicol Region (Region V)</td>\n      <td>drug</td>\n      <td>46.666667</td>\n      <td>drug, terrorism, illegal possession, murder, k...</td>\n    </tr>\n    <tr>\n      <th>1</th>\n      <td>Zamboanga Peninsula (Region IX)</td>\n      <td>drug</td>\n      <td>58.333333</td>\n      <td>drug, smuggling, wanted, robbery, terrorism,</td>\n    </tr>\n    <tr>\n      <th>2</th>\n      <td>Cagayan Valley (Region II)</td>\n      <td>drug</td>\n      <td>75.000000</td>\n      <td>drug, terrorism, murder,</td>\n    </tr>\n    <tr>\n      <th>3</th>\n      <td>Central Visayas (Region VII)</td>\n      <td>drug</td>\n      <td>81.395349</td>\n      <td>drug, wanted, murder, kidnapping, rape, terror...</td>\n    </tr>\n    <tr>\n      <th>4</th>\n      <td>Autonomous Region of Muslim Mindanao (ARMM)</td>\n      <td>drug</td>\n      <td>35.294118</td>\n      <td>drug, murder, terrorism, wanted, illegal posse...</td>\n    </tr>\n    <tr>\n      <th>5</th>\n      <td>Western Visayas (Region VI)</td>\n      <td>drug</td>\n      <td>60.000000</td>\n      <td>drug, terrorism, murder, wanted, smuggling,</td>\n    </tr>\n    <tr>\n      <th>6</th>\n      <td>MIMAROPA (Region IV-B)</td>\n      <td>drug</td>\n      <td>100.000000</td>\n      <td>drug,</td>\n    </tr>\n    <tr>\n      <th>7</th>\n      <td>Cordillera Administrative Region (CAR)</td>\n      <td>drug</td>\n      <td>96.153846</td>\n      <td>drug, terrorism,</td>\n    </tr>\n    <tr>\n      <th>8</th>\n      <td>CALABARZON (Region IV-A)</td>\n      <td>drug</td>\n      <td>72.727273</td>\n      <td>drug, murder, kidnapping, wanted, smuggling, r...</td>\n    </tr>\n    <tr>\n      <th>9</th>\n      <td>Eastern Visayas (Region VIII)</td>\n      <td>drug</td>\n      <td>43.478261</td>\n      <td>drug, terrorism, wanted, rape, kidnapping, mur...</td>\n    </tr>\n    <tr>\n      <th>10</th>\n      <td>Davao Region (Region XI)</td>\n      <td>drug</td>\n      <td>70.000000</td>\n      <td>drug, terrorism, murder,</td>\n    </tr>\n    <tr>\n      <th>11</th>\n      <td>SOCCSKSARGEN (Region XII)</td>\n      <td>drug</td>\n      <td>83.333333</td>\n      <td>drug, fraud,</td>\n    </tr>\n    <tr>\n      <th>12</th>\n      <td>Metropolitan Manila</td>\n      <td>drug</td>\n      <td>71.428571</td>\n      <td>drug, robbery, kidnapping, fraud, smuggling, t...</td>\n    </tr>\n    <tr>\n      <th>13</th>\n      <td>Ilocos Region (Region I)</td>\n      <td>drug</td>\n      <td>47.826087</td>\n      <td>drug, fraud, terrorism, murder, wanted, robber...</td>\n    </tr>\n    <tr>\n      <th>14</th>\n      <td>Central Luzon (Region III)</td>\n      <td>drug</td>\n      <td>72.222222</td>\n      <td>drug, smuggling, rape, fraud, murder,</td>\n    </tr>\n    <tr>\n      <th>15</th>\n      <td>Northern Mindanao (Region X)</td>\n      <td>drug</td>\n      <td>83.333333</td>\n      <td>drug, terrorism,</td>\n    </tr>\n    <tr>\n      <th>16</th>\n      <td>Caraga (Region XIII)</td>\n      <td>wanted</td>\n      <td>22.222222</td>\n      <td>wanted, terrorism, drug, robbery, murder, fraud,</td>\n    </tr>\n  </tbody>\n</table>\n</div>"
     },
     "execution_count": 95,
     "metadata": {},
     "output_type": "execute_result"
    }
   ],
   "source": [
    "regio = pred_df.region.unique()\n",
    "region_list = []\n",
    "type_list = []\n",
    "percent_list = []\n",
    "others_list = []\n",
    "for reg in regio:\n",
    "    temp  = pred_df[pred_df.region == reg].type.value_counts()\n",
    "    region_list.append(reg)\n",
    "    type_list.append(temp.index[0])\n",
    "    percent_list.append(temp[0] / temp.sum() * 100)\n",
    "    word = \"\"\n",
    "    for item in temp.index:\n",
    "        word += str(item) + \", \"\n",
    "    others_list.append(word)\n",
    "\n",
    "chloro_df = pd.DataFrame({'Region Name':region_list ,'Most Likely Crime':type_list, 'Probability Percent of Most Likely Crime':percent_list, 'All Crimes':others_list})\n",
    "chloro_df"
   ],
   "metadata": {
    "collapsed": false,
    "pycharm": {
     "name": "#%%\n"
    }
   }
  },
  {
   "cell_type": "code",
   "execution_count": 96,
   "outputs": [],
   "source": [
    "import plotly.express as px\n",
    "\n",
    "fig = px.choropleth_mapbox(\n",
    "    chloro_df,\n",
    "    locations=\"Region Name\",\n",
    "    geojson=regions,\n",
    "    color=\"Probability Percent of Most Likely Crime\",\n",
    "    featureidkey=\"properties.REGION\",\n",
    "    hover_name=\"Region Name\",\n",
    "    hover_data=[\"All Crimes\", \"Most Likely Crime\"],\n",
    "    mapbox_style=\"carto-positron\",\n",
    "    center={\"lat\": 12, \"lon\": 122},\n",
    "    zoom=5,\n",
    ")\n",
    "\n",
    "fig.write_html(\"file.html\")"
   ],
   "metadata": {
    "collapsed": false,
    "pycharm": {
     "name": "#%%\n"
    }
   }
  },
  {
   "cell_type": "code",
   "execution_count": 79,
   "outputs": [
    {
     "data": {
      "text/plain": "       index                                              tweet  coords\n0          0  pnp oic pltgen danao jr confirmed two members ...     NaN\n1          1  antiillegal drug operation also led seizure 25...     NaN\n2          2  regional level wanted person illegal drugs nab...     NaN\n3          3  three former members ctg masbate reintegrated ...     NaN\n4          4  37yearold drug suspect busted antiillegal drug...     NaN\n...      ...                                                ...     ...\n15326   6506      deped strives enhance reading skills students     NaN\n15327   6507  ovp taking iso certification challenge improve...     NaN\n15328   6508  shooting stemmed heated argument isagani anche...     NaN\n15329   6509     afp engineers clear 30 marawi areas explosives     NaN\n15330   6510  10 us citizens 2 locals killed costa rica plan...     NaN\n\n[15331 rows x 3 columns]",
      "text/html": "<div>\n<style scoped>\n    .dataframe tbody tr th:only-of-type {\n        vertical-align: middle;\n    }\n\n    .dataframe tbody tr th {\n        vertical-align: top;\n    }\n\n    .dataframe thead th {\n        text-align: right;\n    }\n</style>\n<table border=\"1\" class=\"dataframe\">\n  <thead>\n    <tr style=\"text-align: right;\">\n      <th></th>\n      <th>index</th>\n      <th>tweet</th>\n      <th>coords</th>\n    </tr>\n  </thead>\n  <tbody>\n    <tr>\n      <th>0</th>\n      <td>0</td>\n      <td>pnp oic pltgen danao jr confirmed two members ...</td>\n      <td>NaN</td>\n    </tr>\n    <tr>\n      <th>1</th>\n      <td>1</td>\n      <td>antiillegal drug operation also led seizure 25...</td>\n      <td>NaN</td>\n    </tr>\n    <tr>\n      <th>2</th>\n      <td>2</td>\n      <td>regional level wanted person illegal drugs nab...</td>\n      <td>NaN</td>\n    </tr>\n    <tr>\n      <th>3</th>\n      <td>3</td>\n      <td>three former members ctg masbate reintegrated ...</td>\n      <td>NaN</td>\n    </tr>\n    <tr>\n      <th>4</th>\n      <td>4</td>\n      <td>37yearold drug suspect busted antiillegal drug...</td>\n      <td>NaN</td>\n    </tr>\n    <tr>\n      <th>...</th>\n      <td>...</td>\n      <td>...</td>\n      <td>...</td>\n    </tr>\n    <tr>\n      <th>15326</th>\n      <td>6506</td>\n      <td>deped strives enhance reading skills students</td>\n      <td>NaN</td>\n    </tr>\n    <tr>\n      <th>15327</th>\n      <td>6507</td>\n      <td>ovp taking iso certification challenge improve...</td>\n      <td>NaN</td>\n    </tr>\n    <tr>\n      <th>15328</th>\n      <td>6508</td>\n      <td>shooting stemmed heated argument isagani anche...</td>\n      <td>NaN</td>\n    </tr>\n    <tr>\n      <th>15329</th>\n      <td>6509</td>\n      <td>afp engineers clear 30 marawi areas explosives</td>\n      <td>NaN</td>\n    </tr>\n    <tr>\n      <th>15330</th>\n      <td>6510</td>\n      <td>10 us citizens 2 locals killed costa rica plan...</td>\n      <td>NaN</td>\n    </tr>\n  </tbody>\n</table>\n<p>15331 rows × 3 columns</p>\n</div>"
     },
     "execution_count": 79,
     "metadata": {},
     "output_type": "execute_result"
    }
   ],
   "source": [
    "final_df"
   ],
   "metadata": {
    "collapsed": false,
    "pycharm": {
     "name": "#%%\n"
    }
   }
  }
 ]
}